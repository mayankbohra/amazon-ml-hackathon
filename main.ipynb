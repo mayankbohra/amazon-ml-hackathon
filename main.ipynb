{
 "cells": [
  {
   "cell_type": "markdown",
   "metadata": {},
   "source": [
    "# Setup and imports"
   ]
  },
  {
   "cell_type": "code",
   "execution_count": 24,
   "metadata": {},
   "outputs": [],
   "source": [
    "import os\n",
    "import pandas as pd\n",
    "from PIL import Image, UnidentifiedImageError\n",
    "from tqdm import tqdm\n",
    "import torch\n",
    "from torchvision import models, transforms\n",
    "from sklearn.linear_model import LogisticRegression\n",
    "from sklearn.model_selection import train_test_split\n",
    "from sklearn.metrics import accuracy_score, f1_score\n",
    "import numpy as np\n",
    "\n",
    "from src.utils import download_images\n",
    "from src.feature_extractor import extract_features\n",
    "from src.model_trainer import train_model\n",
    "\n",
    "import warnings\n",
    "warnings.filterwarnings('ignore')"
   ]
  },
  {
   "cell_type": "markdown",
   "metadata": {},
   "source": [
    "# Helper Functions "
   ]
  },
  {
   "cell_type": "markdown",
   "metadata": {},
   "source": [
    "## Feature Extraction "
   ]
  },
  {
   "cell_type": "code",
   "execution_count": 4,
   "metadata": {},
   "outputs": [],
   "source": [
    "resnet = models.resnet50(pretrained=True)\n",
    "resnet = torch.nn.Sequential(*list(resnet.children())[:-1])\n",
    "resnet.eval()\n",
    "\n",
    "def preprocess_for_resnet(image_path):\n",
    "    try:\n",
    "        img = Image.open(image_path).convert('RGB')\n",
    "        transform = transforms.Compose([\n",
    "            transforms.Resize((224, 224)),\n",
    "            transforms.ToTensor(),\n",
    "            transforms.Normalize(mean=[0.485, 0.456, 0.406], std=[0.229, 0.224, 0.225])\n",
    "        ])\n",
    "        img_tensor = transform(img).unsqueeze(0) \n",
    "        return img_tensor\n",
    "    except (OSError, UnidentifiedImageError) as e:\n",
    "        return None\n",
    "\n",
    "def extract_features(image_path):\n",
    "    img_tensor = preprocess_for_resnet(image_path)\n",
    "    if img_tensor is None:\n",
    "        return None  \n",
    "    with torch.no_grad():\n",
    "        features = resnet(img_tensor)\n",
    "    return features.squeeze().numpy()"
   ]
  },
  {
   "cell_type": "markdown",
   "metadata": {},
   "source": [
    "## Model Training "
   ]
  },
  {
   "cell_type": "code",
   "execution_count": 25,
   "metadata": {},
   "outputs": [],
   "source": [
    "X = []  \n",
    "y = []  \n",
    "\n",
    "def train_model(X, y):\n",
    "    X = np.array(X)\n",
    "    y = np.array(y)\n",
    "\n",
    "    X_train, X_test, y_train, y_test = train_test_split(X, y, test_size=0.2)\n",
    "\n",
    "    model = LogisticRegression(max_iter=1000)\n",
    "    model.fit(X_train, y_train)\n",
    "\n",
    "    y_pred = model.predict(X_test)\n",
    "\n",
    "    accuracy = model.score(X_test, y_test)\n",
    "    f1 = f1_score(y_test, y_pred, average='weighted')\n",
    "\n",
    "    print(f\"Model accuracy: {accuracy}\")\n",
    "    print(f\"Model F1 score: {f1}\")\n",
    "    \n",
    "    return model"
   ]
  },
  {
   "cell_type": "markdown",
   "metadata": {},
   "source": [
    "## Check Image Downloads "
   ]
  },
  {
   "cell_type": "code",
   "execution_count": 6,
   "metadata": {},
   "outputs": [],
   "source": [
    "def check_images_already_downloaded(image_links, image_folder):\n",
    "    print(\"Checking if images are already downloaded...\")\n",
    "    missing_images = []\n",
    "    for image_link in tqdm(image_links, desc=\"Checking images\"):\n",
    "        image_filename = os.path.basename(image_link)\n",
    "        image_path = os.path.join(image_folder, image_filename)\n",
    "        if not os.path.exists(image_path):\n",
    "            missing_images.append(image_link)\n",
    "    print(f\"Check completed. {len(missing_images)} missing images found.\")\n",
    "    return missing_images"
   ]
  },
  {
   "cell_type": "markdown",
   "metadata": {},
   "source": [
    "## Prediction Function "
   ]
  },
  {
   "cell_type": "code",
   "execution_count": 7,
   "metadata": {},
   "outputs": [],
   "source": [
    "def predictor(image_link, category_id, entity_name, model, image_folder):\n",
    "    image_filename = os.path.basename(image_link)\n",
    "    image_path = os.path.join(image_folder, image_filename)\n",
    "    \n",
    "    print(f\"Processing image link: {image_link}\")\n",
    "    print(f\"Image will be saved at: {image_path}\")\n",
    "\n",
    "    if not os.path.exists(image_path):\n",
    "        print(f\"Image not found locally. Downloading image: {image_filename}\")\n",
    "        download_images([image_link], image_folder, allow_multiprocessing=False)\n",
    "        print(f\"Image downloaded: {image_filename}\")\n",
    "    \n",
    "    print(f\"Extracting features from image: {image_filename}\")\n",
    "    features = extract_features(image_path)\n",
    "\n",
    "    if features is None:\n",
    "        print(f\"Skipping prediction due to incomplete or corrupt image: {image_filename}\")\n",
    "        return None\n",
    "\n",
    "    print(f\"Making prediction for entity: {entity_name}\")\n",
    "    prediction = model.predict([features])[0]\n",
    "    print(f\"Prediction completed: {prediction}\")\n",
    "    return prediction"
   ]
  },
  {
   "cell_type": "markdown",
   "metadata": {},
   "source": [
    "# Main Processing Code"
   ]
  },
  {
   "cell_type": "markdown",
   "metadata": {},
   "source": [
    "## Training Data Loading"
   ]
  },
  {
   "cell_type": "code",
   "execution_count": 11,
   "metadata": {},
   "outputs": [
    {
     "name": "stdout",
     "output_type": "stream",
     "text": [
      "Loading training dataset from folder: ./dataset/\n",
      "Training dataset loaded.\n",
      "Checking if images are already downloaded...\n"
     ]
    },
    {
     "name": "stderr",
     "output_type": "stream",
     "text": [
      "Checking images: 100%|██████████| 263859/263859 [00:32<00:00, 8154.37it/s] "
     ]
    },
    {
     "name": "stdout",
     "output_type": "stream",
     "text": [
      "Check completed. 0 missing images found.\n",
      "All training images are already downloaded.\n"
     ]
    },
    {
     "name": "stderr",
     "output_type": "stream",
     "text": [
      "\n"
     ]
    }
   ],
   "source": [
    "DATASET_FOLDER = './dataset/'\n",
    "IMAGE_DOWNLOAD_FOLDER_TRAIN = './downloaded_images/'\n",
    "IMAGE_DOWNLOAD_FOLDER_TEST = './downloaded_images_test/'\n",
    "\n",
    "print(f\"Loading training dataset from folder: {DATASET_FOLDER}\")\n",
    "train_data = pd.read_csv(os.path.join(DATASET_FOLDER, 'train.csv'))\n",
    "print(\"Training dataset loaded.\")\n",
    "\n",
    "missing_train_images = check_images_already_downloaded(train_data['image_link'].tolist(), IMAGE_DOWNLOAD_FOLDER_TRAIN)\n",
    "\n",
    "if missing_train_images:\n",
    "    print(f\"Found {len(missing_train_images)} images to download for training.\")\n",
    "    download_images(missing_train_images, IMAGE_DOWNLOAD_FOLDER_TRAIN)\n",
    "    print(\"Image download process for training completed.\")\n",
    "else:\n",
    "    print(\"All training images are already downloaded.\")"
   ]
  },
  {
   "cell_type": "markdown",
   "metadata": {},
   "source": [
    "## Feature Extraction"
   ]
  },
  {
   "cell_type": "code",
   "execution_count": 26,
   "metadata": {},
   "outputs": [
    {
     "name": "stdout",
     "output_type": "stream",
     "text": [
      "Starting feature extraction for training images...\n"
     ]
    },
    {
     "name": "stderr",
     "output_type": "stream",
     "text": [
      "Extracting Features:   0%|          | 1/500 [00:00<01:27,  5.68it/s]"
     ]
    },
    {
     "name": "stdout",
     "output_type": "stream",
     "text": [
      "Extracting features from image: 61I9XdN6OFL.jpg\n",
      "Extracting features from image: 71gSRbyXmoL.jpg\n"
     ]
    },
    {
     "name": "stderr",
     "output_type": "stream",
     "text": [
      "Extracting Features:   0%|          | 2/500 [00:00<01:19,  6.24it/s]"
     ]
    },
    {
     "name": "stdout",
     "output_type": "stream",
     "text": [
      "Extracting features from image: 61BZ4zrjZXL.jpg\n"
     ]
    },
    {
     "name": "stderr",
     "output_type": "stream",
     "text": [
      "Extracting Features:   1%|          | 3/500 [00:00<01:16,  6.51it/s]"
     ]
    },
    {
     "name": "stdout",
     "output_type": "stream",
     "text": [
      "Extracting features from image: 612mrlqiI4L.jpg\n"
     ]
    },
    {
     "name": "stderr",
     "output_type": "stream",
     "text": [
      "Extracting Features:   1%|          | 4/500 [00:00<01:14,  6.64it/s]"
     ]
    },
    {
     "name": "stdout",
     "output_type": "stream",
     "text": [
      "Extracting features from image: 617Tl40LOXL.jpg\n"
     ]
    },
    {
     "name": "stderr",
     "output_type": "stream",
     "text": [
      "Extracting Features:   1%|          | 6/500 [00:00<01:21,  6.05it/s]"
     ]
    },
    {
     "name": "stdout",
     "output_type": "stream",
     "text": [
      "Extracting features from image: 61QsBSE7jgL.jpg\n",
      "Extracting features from image: 81xsq6vf2qL.jpg\n"
     ]
    },
    {
     "name": "stderr",
     "output_type": "stream",
     "text": [
      "Extracting Features:   2%|▏         | 8/500 [00:01<01:30,  5.42it/s]"
     ]
    },
    {
     "name": "stdout",
     "output_type": "stream",
     "text": [
      "Extracting features from image: 71DiLRHeZdL.jpg\n",
      "Extracting features from image: 91Cma3RzseL.jpg\n"
     ]
    },
    {
     "name": "stderr",
     "output_type": "stream",
     "text": [
      "Extracting Features:   2%|▏         | 10/500 [00:01<01:39,  4.91it/s]"
     ]
    },
    {
     "name": "stdout",
     "output_type": "stream",
     "text": [
      "Extracting features from image: 71jBLhmTNlL.jpg\n",
      "Extracting features from image: 81N73b5khVL.jpg\n"
     ]
    },
    {
     "name": "stderr",
     "output_type": "stream",
     "text": [
      "Extracting Features:   2%|▏         | 12/500 [00:02<01:26,  5.62it/s]"
     ]
    },
    {
     "name": "stdout",
     "output_type": "stream",
     "text": [
      "Extracting features from image: 61oMj2iXOuL.jpg\n",
      "Extracting features from image: 91LPf6OjV9L.jpg\n"
     ]
    },
    {
     "name": "stderr",
     "output_type": "stream",
     "text": [
      "Extracting Features:   3%|▎         | 13/500 [00:02<01:35,  5.12it/s]"
     ]
    },
    {
     "name": "stdout",
     "output_type": "stream",
     "text": [
      "Extracting features from image: 81fOxWWWKYL.jpg\n"
     ]
    },
    {
     "name": "stderr",
     "output_type": "stream",
     "text": [
      "Extracting Features:   3%|▎         | 14/500 [00:02<01:57,  4.14it/s]"
     ]
    },
    {
     "name": "stdout",
     "output_type": "stream",
     "text": [
      "Extracting features from image: 81dzao1Ob4L.jpg\n"
     ]
    },
    {
     "name": "stderr",
     "output_type": "stream",
     "text": [
      "Extracting Features:   3%|▎         | 15/500 [00:03<02:12,  3.65it/s]"
     ]
    },
    {
     "name": "stdout",
     "output_type": "stream",
     "text": [
      "Extracting features from image: 91-iahVGEDL.jpg\n"
     ]
    },
    {
     "name": "stderr",
     "output_type": "stream",
     "text": [
      "Extracting Features:   3%|▎         | 16/500 [00:03<02:26,  3.31it/s]"
     ]
    },
    {
     "name": "stdout",
     "output_type": "stream",
     "text": [
      "Extracting features from image: 81S2+GnYpTL.jpg\n"
     ]
    },
    {
     "name": "stderr",
     "output_type": "stream",
     "text": [
      "Extracting Features:   3%|▎         | 17/500 [00:03<02:18,  3.49it/s]"
     ]
    },
    {
     "name": "stdout",
     "output_type": "stream",
     "text": [
      "Extracting features from image: 81e2YtCOKvL.jpg\n"
     ]
    },
    {
     "name": "stderr",
     "output_type": "stream",
     "text": [
      "Extracting Features:   4%|▍         | 19/500 [00:04<02:01,  3.96it/s]"
     ]
    },
    {
     "name": "stdout",
     "output_type": "stream",
     "text": [
      "Extracting features from image: 81RNsNEM1EL.jpg\n",
      "Extracting features from image: 91prZeizZnL.jpg\n"
     ]
    },
    {
     "name": "stderr",
     "output_type": "stream",
     "text": [
      "Extracting Features:   4%|▍         | 21/500 [00:04<01:50,  4.34it/s]"
     ]
    },
    {
     "name": "stdout",
     "output_type": "stream",
     "text": [
      "Extracting features from image: 31EvJszFVfL.jpg\n",
      "Extracting features from image: 61wzlucTREL.jpg\n"
     ]
    },
    {
     "name": "stderr",
     "output_type": "stream",
     "text": [
      "Extracting Features:   5%|▍         | 23/500 [00:04<01:33,  5.10it/s]"
     ]
    },
    {
     "name": "stdout",
     "output_type": "stream",
     "text": [
      "Extracting features from image: 61sQ+qAKr4L.jpg\n",
      "Extracting features from image: 81x77l2T5NL.jpg\n"
     ]
    },
    {
     "name": "stderr",
     "output_type": "stream",
     "text": [
      "Extracting Features:   5%|▌         | 25/500 [00:05<01:37,  4.86it/s]"
     ]
    },
    {
     "name": "stdout",
     "output_type": "stream",
     "text": [
      "Extracting features from image: 71nywfWZUwL.jpg\n",
      "Extracting features from image: 71nywfWZUwL.jpg\n"
     ]
    },
    {
     "name": "stderr",
     "output_type": "stream",
     "text": [
      "Extracting Features:   5%|▌         | 27/500 [00:05<01:27,  5.40it/s]"
     ]
    },
    {
     "name": "stdout",
     "output_type": "stream",
     "text": [
      "Extracting features from image: 51WsuKKAVrL.jpg\n",
      "Extracting features from image: 61XGDKap+JL.jpg\n"
     ]
    },
    {
     "name": "stderr",
     "output_type": "stream",
     "text": [
      "Extracting Features:   6%|▌         | 29/500 [00:06<01:27,  5.36it/s]"
     ]
    },
    {
     "name": "stdout",
     "output_type": "stream",
     "text": [
      "Extracting features from image: 715vVcWJxGL.jpg\n",
      "Extracting features from image: 613v+2W4UwL.jpg\n"
     ]
    },
    {
     "name": "stderr",
     "output_type": "stream",
     "text": [
      "Extracting Features:   6%|▌         | 30/500 [00:06<01:33,  5.03it/s]"
     ]
    },
    {
     "name": "stdout",
     "output_type": "stream",
     "text": [
      "Extracting features from image: 71+fn9TWQmL.jpg\n"
     ]
    },
    {
     "name": "stderr",
     "output_type": "stream",
     "text": [
      "Extracting Features:   6%|▌         | 31/500 [00:06<01:42,  4.57it/s]"
     ]
    },
    {
     "name": "stdout",
     "output_type": "stream",
     "text": [
      "Extracting features from image: 71aKgRRQ2wL.jpg\n"
     ]
    },
    {
     "name": "stderr",
     "output_type": "stream",
     "text": [
      "Extracting Features:   6%|▋         | 32/500 [00:06<02:05,  3.73it/s]"
     ]
    },
    {
     "name": "stdout",
     "output_type": "stream",
     "text": [
      "Extracting features from image: 71rKXZJrh4L.jpg\n"
     ]
    },
    {
     "name": "stderr",
     "output_type": "stream",
     "text": [
      "Extracting Features:   7%|▋         | 33/500 [00:07<02:09,  3.61it/s]"
     ]
    },
    {
     "name": "stdout",
     "output_type": "stream",
     "text": [
      "Extracting features from image: 71D824lbRvL.jpg\n"
     ]
    },
    {
     "name": "stderr",
     "output_type": "stream",
     "text": [
      "Extracting Features:   7%|▋         | 34/500 [00:07<02:11,  3.55it/s]"
     ]
    },
    {
     "name": "stdout",
     "output_type": "stream",
     "text": [
      "Extracting features from image: 71004c9tzfL.jpg\n"
     ]
    },
    {
     "name": "stderr",
     "output_type": "stream",
     "text": [
      "Extracting Features:   7%|▋         | 36/500 [00:07<01:50,  4.20it/s]"
     ]
    },
    {
     "name": "stdout",
     "output_type": "stream",
     "text": [
      "Extracting features from image: 51bQPPtMqYL.jpg\n"
     ]
    },
    {
     "name": "stderr",
     "output_type": "stream",
     "text": [
      "Extracting Features:   7%|▋         | 37/500 [00:08<01:43,  4.48it/s]"
     ]
    },
    {
     "name": "stdout",
     "output_type": "stream",
     "text": [
      "Extracting features from image: 61o2ntPNNgL.jpg\n",
      "Extracting features from image: 61o2ntPNNgL.jpg\n"
     ]
    },
    {
     "name": "stderr",
     "output_type": "stream",
     "text": [
      "Extracting Features:   8%|▊         | 39/500 [00:08<01:27,  5.28it/s]"
     ]
    },
    {
     "name": "stdout",
     "output_type": "stream",
     "text": [
      "Extracting features from image: 71IUuTJ8QwL.jpg\n",
      "Extracting features from image: 915JHkwtcrL.jpg\n"
     ]
    },
    {
     "name": "stderr",
     "output_type": "stream",
     "text": [
      "Extracting Features:   8%|▊         | 41/500 [00:08<01:22,  5.58it/s]"
     ]
    },
    {
     "name": "stdout",
     "output_type": "stream",
     "text": [
      "Extracting features from image: 71cjrYndwIL.jpg\n",
      "Extracting features from image: 81hnk2WXO3L.jpg\n"
     ]
    },
    {
     "name": "stderr",
     "output_type": "stream",
     "text": [
      "Extracting Features:   9%|▊         | 43/500 [00:09<01:26,  5.27it/s]"
     ]
    },
    {
     "name": "stdout",
     "output_type": "stream",
     "text": [
      "Extracting features from image: 61HXgujoxpL.jpg\n",
      "Extracting features from image: 613G8GOyLSL.jpg\n"
     ]
    },
    {
     "name": "stderr",
     "output_type": "stream",
     "text": [
      "Extracting Features:   9%|▉         | 44/500 [00:09<01:32,  4.92it/s]"
     ]
    },
    {
     "name": "stdout",
     "output_type": "stream",
     "text": [
      "Extracting features from image: 71YyZ2iPyZL.jpg\n"
     ]
    },
    {
     "name": "stderr",
     "output_type": "stream",
     "text": [
      "Extracting Features:   9%|▉         | 45/500 [00:09<01:45,  4.33it/s]"
     ]
    },
    {
     "name": "stdout",
     "output_type": "stream",
     "text": [
      "Extracting features from image: 81K3JwUCnQL.jpg\n"
     ]
    },
    {
     "name": "stderr",
     "output_type": "stream",
     "text": [
      "Extracting Features:   9%|▉         | 46/500 [00:10<02:10,  3.49it/s]"
     ]
    },
    {
     "name": "stdout",
     "output_type": "stream",
     "text": [
      "Extracting features from image: 41wvffSxB4L.jpg\n"
     ]
    },
    {
     "name": "stderr",
     "output_type": "stream",
     "text": [
      "Extracting Features:   9%|▉         | 47/500 [00:10<02:01,  3.73it/s]"
     ]
    },
    {
     "name": "stdout",
     "output_type": "stream",
     "text": [
      "Extracting features from image: 91cErO-KbLL.jpg\n"
     ]
    },
    {
     "name": "stderr",
     "output_type": "stream",
     "text": [
      "Extracting Features:  10%|▉         | 48/500 [00:10<02:17,  3.28it/s]"
     ]
    },
    {
     "name": "stdout",
     "output_type": "stream",
     "text": [
      "Extracting features from image: 817vo3DcCNL.jpg\n"
     ]
    },
    {
     "name": "stderr",
     "output_type": "stream",
     "text": [
      "Extracting Features:  10%|▉         | 49/500 [00:11<02:30,  2.99it/s]"
     ]
    },
    {
     "name": "stdout",
     "output_type": "stream",
     "text": [
      "Extracting features from image: 61AHQ35poHL.jpg\n"
     ]
    },
    {
     "name": "stderr",
     "output_type": "stream",
     "text": [
      "Extracting Features:  10%|█         | 50/500 [00:11<02:23,  3.13it/s]"
     ]
    },
    {
     "name": "stdout",
     "output_type": "stream",
     "text": [
      "Extracting features from image: 61WFh8RCQYL.jpg\n"
     ]
    },
    {
     "name": "stderr",
     "output_type": "stream",
     "text": [
      "Extracting Features:  10%|█         | 51/500 [00:11<02:17,  3.27it/s]"
     ]
    },
    {
     "name": "stdout",
     "output_type": "stream",
     "text": [
      "Extracting features from image: 711SATIDrmL.jpg\n"
     ]
    },
    {
     "name": "stderr",
     "output_type": "stream",
     "text": [
      "Extracting Features:  10%|█         | 52/500 [00:11<02:08,  3.48it/s]"
     ]
    },
    {
     "name": "stdout",
     "output_type": "stream",
     "text": [
      "Extracting features from image: 61x6RSjwQIL.jpg\n"
     ]
    },
    {
     "name": "stderr",
     "output_type": "stream",
     "text": [
      "Extracting Features:  11%|█         | 53/500 [00:12<02:06,  3.53it/s]"
     ]
    },
    {
     "name": "stdout",
     "output_type": "stream",
     "text": [
      "Extracting features from image: 613BeFNwHcL.jpg\n"
     ]
    },
    {
     "name": "stderr",
     "output_type": "stream",
     "text": [
      "Extracting Features:  11%|█         | 54/500 [00:12<02:08,  3.46it/s]"
     ]
    },
    {
     "name": "stdout",
     "output_type": "stream",
     "text": [
      "Extracting features from image: 61hWZdkq6WL.jpg\n"
     ]
    },
    {
     "name": "stderr",
     "output_type": "stream",
     "text": [
      "Extracting Features:  11%|█         | 56/500 [00:12<01:50,  4.00it/s]"
     ]
    },
    {
     "name": "stdout",
     "output_type": "stream",
     "text": [
      "Extracting features from image: 71E7CU55dcL.jpg\n"
     ]
    },
    {
     "name": "stderr",
     "output_type": "stream",
     "text": [
      "Extracting Features:  11%|█▏        | 57/500 [00:13<01:39,  4.44it/s]"
     ]
    },
    {
     "name": "stdout",
     "output_type": "stream",
     "text": [
      "Extracting features from image: 61c+hSNnnZL.jpg\n",
      "Extracting features from image: 915w0BdW-gL.jpg\n"
     ]
    },
    {
     "name": "stderr",
     "output_type": "stream",
     "text": [
      "Extracting Features:  12%|█▏        | 59/500 [00:13<01:33,  4.73it/s]"
     ]
    },
    {
     "name": "stdout",
     "output_type": "stream",
     "text": [
      "Extracting features from image: 61sx0ezNNLL.jpg\n",
      "Extracting features from image: 71ldprwbKrL.jpg\n"
     ]
    },
    {
     "name": "stderr",
     "output_type": "stream",
     "text": [
      "Extracting Features:  12%|█▏        | 61/500 [00:13<01:27,  5.04it/s]"
     ]
    },
    {
     "name": "stdout",
     "output_type": "stream",
     "text": [
      "Extracting features from image: 71E9iF-bmKL.jpg\n",
      "Extracting features from image: 71sWRp1SNwL.jpg\n"
     ]
    },
    {
     "name": "stderr",
     "output_type": "stream",
     "text": [
      "Extracting Features:  12%|█▏        | 62/500 [00:14<01:24,  5.17it/s]"
     ]
    },
    {
     "name": "stdout",
     "output_type": "stream",
     "text": [
      "Extracting features from image: 61Fwq4GeTmL.jpg\n"
     ]
    },
    {
     "name": "stderr",
     "output_type": "stream",
     "text": [
      "Extracting Features:  13%|█▎        | 63/500 [00:14<01:36,  4.52it/s]"
     ]
    },
    {
     "name": "stdout",
     "output_type": "stream",
     "text": [
      "Extracting features from image: 61-oj+N+BxL.jpg\n"
     ]
    },
    {
     "name": "stderr",
     "output_type": "stream",
     "text": [
      "Extracting Features:  13%|█▎        | 64/500 [00:14<01:39,  4.39it/s]"
     ]
    },
    {
     "name": "stdout",
     "output_type": "stream",
     "text": [
      "Extracting features from image: 71e6kJLE+LL.jpg\n"
     ]
    },
    {
     "name": "stderr",
     "output_type": "stream",
     "text": [
      "Extracting Features:  13%|█▎        | 65/500 [00:14<01:38,  4.43it/s]"
     ]
    },
    {
     "name": "stdout",
     "output_type": "stream",
     "text": [
      "Extracting features from image: 71SuzaRS7gL.jpg\n"
     ]
    },
    {
     "name": "stderr",
     "output_type": "stream",
     "text": [
      "Extracting Features:  13%|█▎        | 66/500 [00:15<01:39,  4.37it/s]"
     ]
    },
    {
     "name": "stdout",
     "output_type": "stream",
     "text": [
      "Extracting features from image: 71nsfFCXF0L.jpg\n"
     ]
    },
    {
     "name": "stderr",
     "output_type": "stream",
     "text": [
      "Extracting Features:  13%|█▎        | 67/500 [00:15<01:36,  4.48it/s]"
     ]
    },
    {
     "name": "stdout",
     "output_type": "stream",
     "text": [
      "Extracting features from image: 71hgN7yu9OL.jpg\n"
     ]
    },
    {
     "name": "stderr",
     "output_type": "stream",
     "text": [
      "Extracting Features:  14%|█▍        | 69/500 [00:15<01:30,  4.78it/s]"
     ]
    },
    {
     "name": "stdout",
     "output_type": "stream",
     "text": [
      "Extracting features from image: 61SmT8pkLtL.jpg\n",
      "Extracting features from image: 71ZtDgGX+iL.jpg\n"
     ]
    },
    {
     "name": "stderr",
     "output_type": "stream",
     "text": [
      "Extracting Features:  14%|█▍        | 71/500 [00:16<01:20,  5.35it/s]"
     ]
    },
    {
     "name": "stdout",
     "output_type": "stream",
     "text": [
      "Extracting features from image: 413FQB0ZMLL.jpg\n",
      "Extracting features from image: 41EjbFu-+yL.jpg\n"
     ]
    },
    {
     "name": "stderr",
     "output_type": "stream",
     "text": [
      "Extracting Features:  15%|█▍        | 73/500 [00:16<01:13,  5.80it/s]"
     ]
    },
    {
     "name": "stdout",
     "output_type": "stream",
     "text": [
      "Extracting features from image: 71dWDwMhWmS.jpg\n",
      "Extracting features from image: 61d6Kj80QSL.jpg\n"
     ]
    },
    {
     "name": "stderr",
     "output_type": "stream",
     "text": [
      "Extracting Features:  15%|█▍        | 74/500 [00:16<01:17,  5.49it/s]"
     ]
    },
    {
     "name": "stdout",
     "output_type": "stream",
     "text": [
      "Extracting features from image: 71bvOuz9w1L.jpg\n"
     ]
    },
    {
     "name": "stderr",
     "output_type": "stream",
     "text": [
      "Extracting Features:  15%|█▌        | 75/500 [00:16<01:37,  4.38it/s]"
     ]
    },
    {
     "name": "stdout",
     "output_type": "stream",
     "text": [
      "Extracting features from image: 71l0M0tMGjL.jpg\n"
     ]
    },
    {
     "name": "stderr",
     "output_type": "stream",
     "text": [
      "Extracting Features:  15%|█▌        | 76/500 [00:17<01:46,  3.97it/s]"
     ]
    },
    {
     "name": "stdout",
     "output_type": "stream",
     "text": [
      "Extracting features from image: 71Lpqdrpi4L.jpg\n"
     ]
    },
    {
     "name": "stderr",
     "output_type": "stream",
     "text": [
      "Extracting Features:  15%|█▌        | 77/500 [00:17<02:03,  3.42it/s]"
     ]
    },
    {
     "name": "stdout",
     "output_type": "stream",
     "text": [
      "Extracting features from image: 71jLIbCcwOL.jpg\n"
     ]
    },
    {
     "name": "stderr",
     "output_type": "stream",
     "text": [
      "Extracting Features:  16%|█▌        | 78/500 [00:17<02:16,  3.08it/s]"
     ]
    },
    {
     "name": "stdout",
     "output_type": "stream",
     "text": [
      "Extracting features from image: 718EdwGgyVL.jpg\n"
     ]
    },
    {
     "name": "stderr",
     "output_type": "stream",
     "text": [
      "Extracting Features:  16%|█▌        | 79/500 [00:18<02:26,  2.87it/s]"
     ]
    },
    {
     "name": "stdout",
     "output_type": "stream",
     "text": [
      "Extracting features from image: 713twQgCHSL.jpg\n"
     ]
    },
    {
     "name": "stderr",
     "output_type": "stream",
     "text": [
      "Extracting Features:  16%|█▌        | 80/500 [00:18<02:36,  2.68it/s]"
     ]
    },
    {
     "name": "stdout",
     "output_type": "stream",
     "text": [
      "Extracting features from image: 61I0O1qJbhS.jpg\n"
     ]
    },
    {
     "name": "stderr",
     "output_type": "stream",
     "text": [
      "Extracting Features:  16%|█▌        | 81/500 [00:19<02:24,  2.89it/s]"
     ]
    },
    {
     "name": "stdout",
     "output_type": "stream",
     "text": [
      "Extracting features from image: 61eOO5IW4NL.jpg\n"
     ]
    },
    {
     "name": "stderr",
     "output_type": "stream",
     "text": [
      "Extracting Features:  16%|█▋        | 82/500 [00:19<02:12,  3.16it/s]"
     ]
    },
    {
     "name": "stdout",
     "output_type": "stream",
     "text": [
      "Extracting features from image: 716AQpAJjZL.jpg\n"
     ]
    },
    {
     "name": "stderr",
     "output_type": "stream",
     "text": [
      "Extracting Features:  17%|█▋        | 83/500 [00:19<02:12,  3.15it/s]"
     ]
    },
    {
     "name": "stdout",
     "output_type": "stream",
     "text": [
      "Extracting features from image: 71FVeRd2jqL.jpg\n"
     ]
    },
    {
     "name": "stderr",
     "output_type": "stream",
     "text": [
      "Extracting Features:  17%|█▋        | 84/500 [00:20<02:39,  2.61it/s]"
     ]
    },
    {
     "name": "stdout",
     "output_type": "stream",
     "text": [
      "Extracting features from image: 81njuNSPdjL.jpg\n"
     ]
    },
    {
     "name": "stderr",
     "output_type": "stream",
     "text": [
      "Extracting Features:  17%|█▋        | 85/500 [00:20<02:36,  2.65it/s]"
     ]
    },
    {
     "name": "stdout",
     "output_type": "stream",
     "text": [
      "Extracting features from image: 51xfRlxWIXL.jpg\n"
     ]
    },
    {
     "name": "stderr",
     "output_type": "stream",
     "text": [
      "Extracting Features:  17%|█▋        | 86/500 [00:20<02:19,  2.97it/s]"
     ]
    },
    {
     "name": "stdout",
     "output_type": "stream",
     "text": [
      "Extracting features from image: 71duwM3SjpL.jpg\n"
     ]
    },
    {
     "name": "stderr",
     "output_type": "stream",
     "text": [
      "Extracting Features:  18%|█▊        | 88/500 [00:21<02:00,  3.41it/s]"
     ]
    },
    {
     "name": "stdout",
     "output_type": "stream",
     "text": [
      "Extracting features from image: 612xIhPMHqL.jpg\n",
      "Extracting features from image: 51b9JEHOriL.jpg\n"
     ]
    },
    {
     "name": "stderr",
     "output_type": "stream",
     "text": [
      "Extracting Features:  18%|█▊        | 89/500 [00:21<01:51,  3.69it/s]"
     ]
    },
    {
     "name": "stdout",
     "output_type": "stream",
     "text": [
      "Extracting features from image: 81lgxfKqUUL.jpg\n"
     ]
    },
    {
     "name": "stderr",
     "output_type": "stream",
     "text": [
      "Extracting Features:  18%|█▊        | 90/500 [00:21<01:47,  3.81it/s]"
     ]
    },
    {
     "name": "stdout",
     "output_type": "stream",
     "text": [
      "Extracting features from image: 814sAvV89SL.jpg\n"
     ]
    },
    {
     "name": "stderr",
     "output_type": "stream",
     "text": [
      "Extracting Features:  18%|█▊        | 91/500 [00:22<01:42,  3.98it/s]"
     ]
    },
    {
     "name": "stdout",
     "output_type": "stream",
     "text": [
      "Extracting features from image: 61cMeogK8gL.jpg\n"
     ]
    },
    {
     "name": "stderr",
     "output_type": "stream",
     "text": [
      "Extracting Features:  18%|█▊        | 92/500 [00:22<01:42,  4.00it/s]"
     ]
    },
    {
     "name": "stdout",
     "output_type": "stream",
     "text": [
      "Extracting features from image: 811VfR10yxL.jpg\n"
     ]
    },
    {
     "name": "stderr",
     "output_type": "stream",
     "text": [
      "Extracting Features:  19%|█▊        | 93/500 [00:22<01:58,  3.42it/s]"
     ]
    },
    {
     "name": "stdout",
     "output_type": "stream",
     "text": [
      "Extracting features from image: 71WLYfmMqQL.jpg\n"
     ]
    },
    {
     "name": "stderr",
     "output_type": "stream",
     "text": [
      "Extracting Features:  19%|█▉        | 94/500 [00:23<02:03,  3.28it/s]"
     ]
    },
    {
     "name": "stdout",
     "output_type": "stream",
     "text": [
      "Extracting features from image: 61Dq3LRei9L.jpg\n"
     ]
    },
    {
     "name": "stderr",
     "output_type": "stream",
     "text": [
      "Extracting Features:  19%|█▉        | 95/500 [00:23<01:53,  3.57it/s]"
     ]
    },
    {
     "name": "stdout",
     "output_type": "stream",
     "text": [
      "Extracting features from image: 71XK5d3Oh9L.jpg\n"
     ]
    },
    {
     "name": "stderr",
     "output_type": "stream",
     "text": [
      "Extracting Features:  19%|█▉        | 96/500 [00:23<01:55,  3.50it/s]"
     ]
    },
    {
     "name": "stdout",
     "output_type": "stream",
     "text": [
      "Extracting features from image: 61kyBEJYDeL.jpg\n"
     ]
    },
    {
     "name": "stderr",
     "output_type": "stream",
     "text": [
      "Extracting Features:  20%|█▉        | 98/500 [00:23<01:34,  4.23it/s]"
     ]
    },
    {
     "name": "stdout",
     "output_type": "stream",
     "text": [
      "Extracting features from image: 71uQmsTESvL.jpg\n"
     ]
    },
    {
     "name": "stderr",
     "output_type": "stream",
     "text": [
      "Extracting Features:  20%|█▉        | 99/500 [00:24<01:30,  4.42it/s]"
     ]
    },
    {
     "name": "stdout",
     "output_type": "stream",
     "text": [
      "Extracting features from image: 71jG8BOi4WL.jpg\n"
     ]
    },
    {
     "name": "stderr",
     "output_type": "stream",
     "text": [
      "Extracting Features:  20%|██        | 100/500 [00:24<01:23,  4.79it/s]"
     ]
    },
    {
     "name": "stdout",
     "output_type": "stream",
     "text": [
      "Extracting features from image: 61390hosjFL.jpg\n",
      "Extracting features from image: 71PDbPb275L.jpg\n"
     ]
    },
    {
     "name": "stderr",
     "output_type": "stream",
     "text": [
      "Extracting Features:  20%|██        | 102/500 [00:24<01:27,  4.56it/s]"
     ]
    },
    {
     "name": "stdout",
     "output_type": "stream",
     "text": [
      "Extracting features from image: 71YiRw3e1lL.jpg\n",
      "Extracting features from image: 719poaEkdEL.jpg\n"
     ]
    },
    {
     "name": "stderr",
     "output_type": "stream",
     "text": [
      "Extracting Features:  21%|██        | 104/500 [00:25<01:18,  5.07it/s]"
     ]
    },
    {
     "name": "stdout",
     "output_type": "stream",
     "text": [
      "Extracting features from image: 41njJJg-ANL.jpg\n",
      "Extracting features from image: 71qEriwsbIL.jpg\n"
     ]
    },
    {
     "name": "stderr",
     "output_type": "stream",
     "text": [
      "Extracting Features:  21%|██        | 105/500 [00:25<01:15,  5.24it/s]"
     ]
    },
    {
     "name": "stdout",
     "output_type": "stream",
     "text": [
      "Extracting features from image: 514M5CrBK4L.jpg\n"
     ]
    },
    {
     "name": "stderr",
     "output_type": "stream",
     "text": [
      "Extracting Features:  21%|██▏       | 107/500 [00:25<01:15,  5.19it/s]"
     ]
    },
    {
     "name": "stdout",
     "output_type": "stream",
     "text": [
      "Extracting features from image: 61qOr-yqaVL.jpg\n",
      "Extracting features from image: 61xxqfM2EwL.jpg\n"
     ]
    },
    {
     "name": "stderr",
     "output_type": "stream",
     "text": [
      "Extracting Features:  22%|██▏       | 108/500 [00:25<01:14,  5.27it/s]"
     ]
    },
    {
     "name": "stdout",
     "output_type": "stream",
     "text": [
      "Extracting features from image: 81yG9eUKvxL.jpg\n"
     ]
    },
    {
     "name": "stderr",
     "output_type": "stream",
     "text": [
      "Extracting Features:  22%|██▏       | 110/500 [00:26<01:15,  5.16it/s]"
     ]
    },
    {
     "name": "stdout",
     "output_type": "stream",
     "text": [
      "Extracting features from image: 61FMOl299lL.jpg\n",
      "Extracting features from image: 41Kn+YOyPjL.jpg\n"
     ]
    },
    {
     "name": "stderr",
     "output_type": "stream",
     "text": [
      "Extracting Features:  22%|██▏       | 112/500 [00:26<01:07,  5.78it/s]"
     ]
    },
    {
     "name": "stdout",
     "output_type": "stream",
     "text": [
      "Extracting features from image: 51q9OE6hfgL.jpg\n",
      "Extracting features from image: 51T1Kh7WWGL.jpg\n"
     ]
    },
    {
     "name": "stderr",
     "output_type": "stream",
     "text": [
      "Extracting Features:  23%|██▎       | 114/500 [00:26<01:05,  5.92it/s]"
     ]
    },
    {
     "name": "stdout",
     "output_type": "stream",
     "text": [
      "Extracting features from image: 71G8XyPqcIL.jpg\n",
      "Extracting features from image: 61Hhju+qn9L.jpg\n"
     ]
    },
    {
     "name": "stderr",
     "output_type": "stream",
     "text": [
      "Extracting Features:  23%|██▎       | 116/500 [00:27<00:57,  6.71it/s]"
     ]
    },
    {
     "name": "stdout",
     "output_type": "stream",
     "text": [
      "Extracting features from image: 51Alw-4+zJL.jpg\n",
      "Extracting features from image: 81l6zfwKG7L.jpg\n"
     ]
    },
    {
     "name": "stderr",
     "output_type": "stream",
     "text": [
      "Extracting Features:  23%|██▎       | 117/500 [00:27<01:05,  5.86it/s]"
     ]
    },
    {
     "name": "stdout",
     "output_type": "stream",
     "text": [
      "Extracting features from image: 71eATPu53YL.jpg\n"
     ]
    },
    {
     "name": "stderr",
     "output_type": "stream",
     "text": [
      "Extracting Features:  24%|██▎       | 118/500 [00:27<01:11,  5.35it/s]"
     ]
    },
    {
     "name": "stdout",
     "output_type": "stream",
     "text": [
      "Extracting features from image: 81R8CrWXthL.jpg\n"
     ]
    },
    {
     "name": "stderr",
     "output_type": "stream",
     "text": [
      "Extracting Features:  24%|██▍       | 119/500 [00:27<01:14,  5.11it/s]"
     ]
    },
    {
     "name": "stdout",
     "output_type": "stream",
     "text": [
      "Extracting features from image: 71qiWPgPcUS.jpg\n"
     ]
    },
    {
     "name": "stderr",
     "output_type": "stream",
     "text": [
      "Extracting Features:  24%|██▍       | 120/500 [00:28<01:17,  4.91it/s]"
     ]
    },
    {
     "name": "stdout",
     "output_type": "stream",
     "text": [
      "Extracting features from image: 81nyHjPXg-L.jpg\n"
     ]
    },
    {
     "name": "stderr",
     "output_type": "stream",
     "text": [
      "Extracting Features:  24%|██▍       | 121/500 [00:28<01:19,  4.80it/s]"
     ]
    },
    {
     "name": "stdout",
     "output_type": "stream",
     "text": [
      "Extracting features from image: 71EREAIkJZS.jpg\n"
     ]
    },
    {
     "name": "stderr",
     "output_type": "stream",
     "text": [
      "Extracting Features:  25%|██▍       | 123/500 [00:28<01:21,  4.65it/s]"
     ]
    },
    {
     "name": "stdout",
     "output_type": "stream",
     "text": [
      "Extracting features from image: 61bpzE0p4yL.jpg\n"
     ]
    },
    {
     "name": "stderr",
     "output_type": "stream",
     "text": [
      "Extracting Features:  25%|██▍       | 124/500 [00:28<01:17,  4.86it/s]"
     ]
    },
    {
     "name": "stdout",
     "output_type": "stream",
     "text": [
      "Extracting features from image: 71yqAwAikaL.jpg\n"
     ]
    },
    {
     "name": "stderr",
     "output_type": "stream",
     "text": [
      "Extracting Features:  25%|██▌       | 125/500 [00:29<01:12,  5.20it/s]"
     ]
    },
    {
     "name": "stdout",
     "output_type": "stream",
     "text": [
      "Extracting features from image: 61431aMH6cL.jpg\n",
      "Extracting features from image: 71lxjbXw9bL.jpg\n"
     ]
    },
    {
     "name": "stderr",
     "output_type": "stream",
     "text": [
      "Extracting Features:  25%|██▌       | 126/500 [00:29<01:11,  5.22it/s]"
     ]
    },
    {
     "name": "stdout",
     "output_type": "stream",
     "text": [
      "Extracting features from image: 71cziTM6TfL.jpg\n"
     ]
    },
    {
     "name": "stderr",
     "output_type": "stream",
     "text": [
      "Extracting Features:  25%|██▌       | 127/500 [00:29<01:18,  4.76it/s]"
     ]
    },
    {
     "name": "stdout",
     "output_type": "stream",
     "text": [
      "Extracting features from image: 71Btb49O2dL.jpg\n"
     ]
    },
    {
     "name": "stderr",
     "output_type": "stream",
     "text": [
      "Extracting Features:  26%|██▌       | 128/500 [00:29<01:21,  4.58it/s]"
     ]
    },
    {
     "name": "stdout",
     "output_type": "stream",
     "text": [
      "Extracting features from image: 51QhV+Ox86L.jpg\n"
     ]
    },
    {
     "name": "stderr",
     "output_type": "stream",
     "text": [
      "Extracting Features:  26%|██▌       | 129/500 [00:30<01:23,  4.43it/s]"
     ]
    },
    {
     "name": "stdout",
     "output_type": "stream",
     "text": [
      "Extracting features from image: 51ArM1PP7WL.jpg\n"
     ]
    },
    {
     "name": "stderr",
     "output_type": "stream",
     "text": [
      "Extracting Features:  26%|██▌       | 130/500 [00:30<01:37,  3.81it/s]"
     ]
    },
    {
     "name": "stdout",
     "output_type": "stream",
     "text": [
      "Extracting features from image: 51F+K7Zx9fL.jpg\n"
     ]
    },
    {
     "name": "stderr",
     "output_type": "stream",
     "text": [
      "Extracting Features:  26%|██▌       | 131/500 [00:30<01:37,  3.80it/s]"
     ]
    },
    {
     "name": "stdout",
     "output_type": "stream",
     "text": [
      "Extracting features from image: 51u2vv6e8yL.jpg\n"
     ]
    },
    {
     "name": "stderr",
     "output_type": "stream",
     "text": [
      "Extracting Features:  26%|██▋       | 132/500 [00:30<01:43,  3.54it/s]"
     ]
    },
    {
     "name": "stdout",
     "output_type": "stream",
     "text": [
      "Extracting features from image: 71PexaOBvoL.jpg\n"
     ]
    },
    {
     "name": "stderr",
     "output_type": "stream",
     "text": [
      "Extracting Features:  27%|██▋       | 133/500 [00:31<01:55,  3.19it/s]"
     ]
    },
    {
     "name": "stdout",
     "output_type": "stream",
     "text": [
      "Extracting features from image: 81uHTyMDa7L.jpg\n"
     ]
    },
    {
     "name": "stderr",
     "output_type": "stream",
     "text": [
      "Extracting Features:  27%|██▋       | 134/500 [00:31<02:02,  2.99it/s]"
     ]
    },
    {
     "name": "stdout",
     "output_type": "stream",
     "text": [
      "Extracting features from image: 81x+p0LzKbL.jpg\n"
     ]
    },
    {
     "name": "stderr",
     "output_type": "stream",
     "text": [
      "Extracting Features:  27%|██▋       | 135/500 [00:32<02:05,  2.91it/s]"
     ]
    },
    {
     "name": "stdout",
     "output_type": "stream",
     "text": [
      "Extracting features from image: 71kCYzCu0UL.jpg\n"
     ]
    },
    {
     "name": "stderr",
     "output_type": "stream",
     "text": [
      "Extracting Features:  27%|██▋       | 136/500 [00:32<02:20,  2.58it/s]"
     ]
    },
    {
     "name": "stdout",
     "output_type": "stream",
     "text": [
      "Extracting features from image: 81F2B83meFL.jpg\n"
     ]
    },
    {
     "name": "stderr",
     "output_type": "stream",
     "text": [
      "Extracting Features:  27%|██▋       | 137/500 [00:33<02:29,  2.43it/s]"
     ]
    },
    {
     "name": "stdout",
     "output_type": "stream",
     "text": [
      "Extracting features from image: 71KFQ3qt4gL.jpg\n"
     ]
    },
    {
     "name": "stderr",
     "output_type": "stream",
     "text": [
      "Extracting Features:  28%|██▊       | 138/500 [00:33<02:44,  2.20it/s]"
     ]
    },
    {
     "name": "stdout",
     "output_type": "stream",
     "text": [
      "Extracting features from image: 71Oo4M3ApxL.jpg\n"
     ]
    },
    {
     "name": "stderr",
     "output_type": "stream",
     "text": [
      "Extracting Features:  28%|██▊       | 139/500 [00:34<02:45,  2.19it/s]"
     ]
    },
    {
     "name": "stdout",
     "output_type": "stream",
     "text": [
      "Extracting features from image: 71Oo4M3ApxL.jpg\n"
     ]
    },
    {
     "name": "stderr",
     "output_type": "stream",
     "text": [
      "Extracting Features:  28%|██▊       | 140/500 [00:34<02:31,  2.38it/s]"
     ]
    },
    {
     "name": "stdout",
     "output_type": "stream",
     "text": [
      "Extracting features from image: 61lE-I9cVuL.jpg\n"
     ]
    },
    {
     "name": "stderr",
     "output_type": "stream",
     "text": [
      "Extracting Features:  28%|██▊       | 141/500 [00:34<02:16,  2.62it/s]"
     ]
    },
    {
     "name": "stdout",
     "output_type": "stream",
     "text": [
      "Extracting features from image: 71+FvzD14RL.jpg\n"
     ]
    },
    {
     "name": "stderr",
     "output_type": "stream",
     "text": [
      "Extracting Features:  28%|██▊       | 142/500 [00:35<02:08,  2.78it/s]"
     ]
    },
    {
     "name": "stdout",
     "output_type": "stream",
     "text": [
      "Extracting features from image: 414maJ3RUML.jpg\n"
     ]
    },
    {
     "name": "stderr",
     "output_type": "stream",
     "text": [
      "Extracting Features:  29%|██▊       | 143/500 [00:35<01:57,  3.03it/s]"
     ]
    },
    {
     "name": "stdout",
     "output_type": "stream",
     "text": [
      "Extracting features from image: 7158CO+v3kL.jpg\n"
     ]
    },
    {
     "name": "stderr",
     "output_type": "stream",
     "text": [
      "Extracting Features:  29%|██▉       | 144/500 [00:35<01:52,  3.15it/s]"
     ]
    },
    {
     "name": "stdout",
     "output_type": "stream",
     "text": [
      "Extracting features from image: 71NoP+8HnqS.jpg\n"
     ]
    },
    {
     "name": "stderr",
     "output_type": "stream",
     "text": [
      "Extracting Features:  29%|██▉       | 146/500 [00:36<01:34,  3.73it/s]"
     ]
    },
    {
     "name": "stdout",
     "output_type": "stream",
     "text": [
      "Extracting features from image: 51K0v0zo-wL.jpg\n",
      "Extracting features from image: 51H6vfyBqML.jpg\n"
     ]
    },
    {
     "name": "stderr",
     "output_type": "stream",
     "text": [
      "Extracting Features:  29%|██▉       | 147/500 [00:36<01:36,  3.66it/s]"
     ]
    },
    {
     "name": "stdout",
     "output_type": "stream",
     "text": [
      "Extracting features from image: 81gzy3-ZlML.jpg\n"
     ]
    },
    {
     "name": "stderr",
     "output_type": "stream",
     "text": [
      "Extracting Features:  30%|██▉       | 148/500 [00:36<01:53,  3.09it/s]"
     ]
    },
    {
     "name": "stdout",
     "output_type": "stream",
     "text": [
      "Extracting features from image: 71mKPQGo8wL.jpg\n"
     ]
    },
    {
     "name": "stderr",
     "output_type": "stream",
     "text": [
      "Extracting Features:  30%|██▉       | 149/500 [00:36<01:42,  3.44it/s]"
     ]
    },
    {
     "name": "stdout",
     "output_type": "stream",
     "text": [
      "Extracting features from image: 81puuiKhs5L.jpg\n"
     ]
    },
    {
     "name": "stderr",
     "output_type": "stream",
     "text": [
      "Extracting Features:  30%|███       | 151/500 [00:37<01:27,  4.00it/s]"
     ]
    },
    {
     "name": "stdout",
     "output_type": "stream",
     "text": [
      "Extracting features from image: 61CLKFwJa4L.jpg\n",
      "Extracting features from image: 615v9WaUIuL.jpg\n"
     ]
    },
    {
     "name": "stderr",
     "output_type": "stream",
     "text": [
      "Extracting Features:  31%|███       | 153/500 [00:37<01:14,  4.67it/s]"
     ]
    },
    {
     "name": "stdout",
     "output_type": "stream",
     "text": [
      "Extracting features from image: 71P0BToikAL.jpg\n",
      "Extracting features from image: 61HisZt9hcL.jpg\n"
     ]
    },
    {
     "name": "stderr",
     "output_type": "stream",
     "text": [
      "Extracting Features:  31%|███       | 155/500 [00:38<01:07,  5.14it/s]"
     ]
    },
    {
     "name": "stdout",
     "output_type": "stream",
     "text": [
      "Extracting features from image: 81JGAcnf39L.jpg\n"
     ]
    },
    {
     "name": "stderr",
     "output_type": "stream",
     "text": [
      "Extracting Features:  31%|███       | 156/500 [00:38<00:59,  5.75it/s]"
     ]
    },
    {
     "name": "stdout",
     "output_type": "stream",
     "text": [
      "Extracting features from image: 31o8WywVeTL.jpg\n",
      "Extracting features from image: 61Ik5NY4ExL.jpg\n"
     ]
    },
    {
     "name": "stderr",
     "output_type": "stream",
     "text": [
      "Extracting Features:  31%|███▏      | 157/500 [00:38<01:01,  5.59it/s]"
     ]
    },
    {
     "name": "stdout",
     "output_type": "stream",
     "text": [
      "Extracting features from image: 71pKB7-3itL.jpg\n"
     ]
    },
    {
     "name": "stderr",
     "output_type": "stream",
     "text": [
      "Extracting Features:  32%|███▏      | 159/500 [00:38<01:04,  5.25it/s]"
     ]
    },
    {
     "name": "stdout",
     "output_type": "stream",
     "text": [
      "Extracting features from image: 71PGzqxh-EL.jpg\n",
      "Extracting features from image: 71uqF3qqsuL.jpg\n"
     ]
    },
    {
     "name": "stderr",
     "output_type": "stream",
     "text": [
      "Extracting Features:  32%|███▏      | 161/500 [00:39<01:05,  5.20it/s]"
     ]
    },
    {
     "name": "stdout",
     "output_type": "stream",
     "text": [
      "Extracting features from image: 61vdMgkasML.jpg\n"
     ]
    },
    {
     "name": "stderr",
     "output_type": "stream",
     "text": [
      "Extracting Features:  32%|███▏      | 162/500 [00:39<01:04,  5.24it/s]"
     ]
    },
    {
     "name": "stdout",
     "output_type": "stream",
     "text": [
      "Extracting features from image: 81xeFGugw6L.jpg\n",
      "Extracting features from image: 71Ye12U8zRL.jpg\n"
     ]
    },
    {
     "name": "stderr",
     "output_type": "stream",
     "text": [
      "Extracting Features:  33%|███▎      | 164/500 [00:39<01:03,  5.28it/s]"
     ]
    },
    {
     "name": "stdout",
     "output_type": "stream",
     "text": [
      "Extracting features from image: 61UjKZyijBL.jpg\n",
      "Extracting features from image: 61v1IQDiIbL.jpg\n"
     ]
    },
    {
     "name": "stderr",
     "output_type": "stream",
     "text": [
      "Extracting Features:  33%|███▎      | 166/500 [00:40<01:02,  5.33it/s]"
     ]
    },
    {
     "name": "stdout",
     "output_type": "stream",
     "text": [
      "Extracting features from image: 71WffHaS-QL.jpg\n"
     ]
    },
    {
     "name": "stderr",
     "output_type": "stream",
     "text": [
      "Extracting Features:  33%|███▎      | 167/500 [00:40<01:02,  5.33it/s]"
     ]
    },
    {
     "name": "stdout",
     "output_type": "stream",
     "text": [
      "Extracting features from image: 61mLRVKOr3L.jpg\n",
      "Extracting features from image: 619W5ruX5xL.jpg\n"
     ]
    },
    {
     "name": "stderr",
     "output_type": "stream",
     "text": [
      "Extracting Features:  34%|███▎      | 168/500 [00:40<01:04,  5.15it/s]"
     ]
    },
    {
     "name": "stdout",
     "output_type": "stream",
     "text": [
      "Extracting features from image: 51YZWIRgY0L.jpg\n"
     ]
    },
    {
     "name": "stderr",
     "output_type": "stream",
     "text": [
      "Extracting Features:  34%|███▍      | 169/500 [00:40<01:05,  5.02it/s]"
     ]
    },
    {
     "name": "stdout",
     "output_type": "stream",
     "text": [
      "Extracting features from image: 81Qf73SxLaL.jpg\n"
     ]
    },
    {
     "name": "stderr",
     "output_type": "stream",
     "text": [
      "Extracting Features:  34%|███▍      | 170/500 [00:40<01:10,  4.66it/s]"
     ]
    },
    {
     "name": "stdout",
     "output_type": "stream",
     "text": [
      "Extracting features from image: 81cEIIPti-L.jpg\n"
     ]
    },
    {
     "name": "stderr",
     "output_type": "stream",
     "text": [
      "Extracting Features:  34%|███▍      | 171/500 [00:41<01:20,  4.07it/s]"
     ]
    },
    {
     "name": "stdout",
     "output_type": "stream",
     "text": [
      "Extracting features from image: 71ciI6RbOqL.jpg\n"
     ]
    },
    {
     "name": "stderr",
     "output_type": "stream",
     "text": [
      "Extracting Features:  34%|███▍      | 172/500 [00:41<01:32,  3.54it/s]"
     ]
    },
    {
     "name": "stdout",
     "output_type": "stream",
     "text": [
      "Extracting features from image: 816L-kPJGyL.jpg\n"
     ]
    },
    {
     "name": "stderr",
     "output_type": "stream",
     "text": [
      "Extracting Features:  35%|███▍      | 173/500 [00:41<01:30,  3.60it/s]"
     ]
    },
    {
     "name": "stdout",
     "output_type": "stream",
     "text": [
      "Extracting features from image: 7185b+0uzML.jpg\n"
     ]
    },
    {
     "name": "stderr",
     "output_type": "stream",
     "text": [
      "Extracting Features:  35%|███▍      | 174/500 [00:42<01:30,  3.62it/s]"
     ]
    },
    {
     "name": "stdout",
     "output_type": "stream",
     "text": [
      "Extracting features from image: 7185b+0uzML.jpg\n"
     ]
    },
    {
     "name": "stderr",
     "output_type": "stream",
     "text": [
      "Extracting Features:  35%|███▌      | 175/500 [00:42<01:29,  3.64it/s]"
     ]
    },
    {
     "name": "stdout",
     "output_type": "stream",
     "text": [
      "Extracting features from image: 71In1fvGSwL.jpg\n"
     ]
    },
    {
     "name": "stderr",
     "output_type": "stream",
     "text": [
      "Extracting Features:  35%|███▌      | 176/500 [00:42<01:31,  3.56it/s]"
     ]
    },
    {
     "name": "stdout",
     "output_type": "stream",
     "text": [
      "Extracting features from image: 8146TN-qDgL.jpg\n"
     ]
    },
    {
     "name": "stderr",
     "output_type": "stream",
     "text": [
      "Extracting Features:  35%|███▌      | 177/500 [00:43<01:29,  3.60it/s]"
     ]
    },
    {
     "name": "stdout",
     "output_type": "stream",
     "text": [
      "Extracting features from image: 71bA7Tj2y5L.jpg\n"
     ]
    },
    {
     "name": "stderr",
     "output_type": "stream",
     "text": [
      "Extracting Features:  36%|███▌      | 179/500 [00:43<01:16,  4.19it/s]"
     ]
    },
    {
     "name": "stdout",
     "output_type": "stream",
     "text": [
      "Extracting features from image: 51ZpARXmu+L.jpg\n",
      "Extracting features from image: 81ZyvlRczjL.jpg\n"
     ]
    },
    {
     "name": "stderr",
     "output_type": "stream",
     "text": [
      "Extracting Features:  36%|███▌      | 180/500 [00:43<01:19,  4.01it/s]"
     ]
    },
    {
     "name": "stdout",
     "output_type": "stream",
     "text": [
      "Extracting features from image: 81zuZujBfyL.jpg\n"
     ]
    },
    {
     "name": "stderr",
     "output_type": "stream",
     "text": [
      "Extracting Features:  36%|███▋      | 182/500 [00:44<01:11,  4.44it/s]"
     ]
    },
    {
     "name": "stdout",
     "output_type": "stream",
     "text": [
      "Extracting features from image: 71mi7h+tZmL.jpg\n",
      "Extracting features from image: 71A7RiB2IIS.jpg\n"
     ]
    },
    {
     "name": "stderr",
     "output_type": "stream",
     "text": [
      "Extracting Features:  37%|███▋      | 184/500 [00:44<01:07,  4.70it/s]"
     ]
    },
    {
     "name": "stdout",
     "output_type": "stream",
     "text": [
      "Extracting features from image: 61UkMSPhLSS.jpg\n"
     ]
    },
    {
     "name": "stderr",
     "output_type": "stream",
     "text": [
      "Extracting Features:  37%|███▋      | 185/500 [00:44<01:04,  4.90it/s]"
     ]
    },
    {
     "name": "stdout",
     "output_type": "stream",
     "text": [
      "Extracting features from image: 616QEdZeLGL.jpg\n"
     ]
    },
    {
     "name": "stderr",
     "output_type": "stream",
     "text": [
      "Extracting Features:  37%|███▋      | 186/500 [00:44<01:04,  4.85it/s]"
     ]
    },
    {
     "name": "stdout",
     "output_type": "stream",
     "text": [
      "Extracting features from image: 61nvPvyO7kL.jpg\n"
     ]
    },
    {
     "name": "stderr",
     "output_type": "stream",
     "text": [
      "Extracting Features:  37%|███▋      | 187/500 [00:45<01:02,  5.04it/s]"
     ]
    },
    {
     "name": "stdout",
     "output_type": "stream",
     "text": [
      "Extracting features from image: 71ihnkVAoCL.jpg\n"
     ]
    },
    {
     "name": "stderr",
     "output_type": "stream",
     "text": [
      "Extracting Features:  38%|███▊      | 188/500 [00:45<01:00,  5.17it/s]"
     ]
    },
    {
     "name": "stdout",
     "output_type": "stream",
     "text": [
      "Extracting features from image: 51WaQdTFyhL.jpg\n",
      "Extracting features from image: 71k9HXFp5VL.jpg\n"
     ]
    },
    {
     "name": "stderr",
     "output_type": "stream",
     "text": [
      "Extracting Features:  38%|███▊      | 190/500 [00:45<01:07,  4.62it/s]"
     ]
    },
    {
     "name": "stdout",
     "output_type": "stream",
     "text": [
      "Extracting features from image: 81hbfdu3UaL.jpg\n",
      "Extracting features from image: 815pYcvCCeL.jpg\n"
     ]
    },
    {
     "name": "stderr",
     "output_type": "stream",
     "text": [
      "Extracting Features:  38%|███▊      | 192/500 [00:46<01:05,  4.72it/s]"
     ]
    },
    {
     "name": "stdout",
     "output_type": "stream",
     "text": [
      "Extracting features from image: 615roHaokEL.jpg\n",
      "Extracting features from image: 71JXfZLNJjL.jpg\n"
     ]
    },
    {
     "name": "stderr",
     "output_type": "stream",
     "text": [
      "Extracting Features:  39%|███▊      | 193/500 [00:46<01:07,  4.54it/s]"
     ]
    },
    {
     "name": "stdout",
     "output_type": "stream",
     "text": [
      "Extracting features from image: 71yQq9I3yzL.jpg\n"
     ]
    },
    {
     "name": "stderr",
     "output_type": "stream",
     "text": [
      "Extracting Features:  39%|███▉      | 194/500 [00:46<01:08,  4.44it/s]"
     ]
    },
    {
     "name": "stdout",
     "output_type": "stream",
     "text": [
      "Extracting features from image: 718M5ODio0L.jpg\n"
     ]
    },
    {
     "name": "stderr",
     "output_type": "stream",
     "text": [
      "Extracting Features:  39%|███▉      | 195/500 [00:46<01:08,  4.43it/s]"
     ]
    },
    {
     "name": "stdout",
     "output_type": "stream",
     "text": [
      "Extracting features from image: 61lpwH0qHbL.jpg\n"
     ]
    },
    {
     "name": "stderr",
     "output_type": "stream",
     "text": [
      "Extracting Features:  39%|███▉      | 196/500 [00:47<01:11,  4.24it/s]"
     ]
    },
    {
     "name": "stdout",
     "output_type": "stream",
     "text": [
      "Extracting features from image: 712sZRVe98L.jpg\n"
     ]
    },
    {
     "name": "stderr",
     "output_type": "stream",
     "text": [
      "Extracting Features:  39%|███▉      | 197/500 [00:47<01:10,  4.30it/s]"
     ]
    },
    {
     "name": "stdout",
     "output_type": "stream",
     "text": [
      "Extracting features from image: 71d+dz7ogkL.jpg\n"
     ]
    },
    {
     "name": "stderr",
     "output_type": "stream",
     "text": [
      "Extracting Features:  40%|███▉      | 199/500 [00:47<01:10,  4.27it/s]"
     ]
    },
    {
     "name": "stdout",
     "output_type": "stream",
     "text": [
      "Extracting features from image: 51WSQa1ygML.jpg\n",
      "Extracting features from image: 71QR6ELoPnL.jpg\n"
     ]
    },
    {
     "name": "stderr",
     "output_type": "stream",
     "text": [
      "Extracting Features:  40%|████      | 200/500 [00:48<01:13,  4.09it/s]"
     ]
    },
    {
     "name": "stdout",
     "output_type": "stream",
     "text": [
      "Extracting features from image: 71cO37WLcCL.jpg\n"
     ]
    },
    {
     "name": "stderr",
     "output_type": "stream",
     "text": [
      "Extracting Features:  40%|████      | 201/500 [00:48<01:10,  4.26it/s]"
     ]
    },
    {
     "name": "stdout",
     "output_type": "stream",
     "text": [
      "Extracting features from image: 71k0T1lkazL.jpg\n"
     ]
    },
    {
     "name": "stderr",
     "output_type": "stream",
     "text": [
      "Extracting Features:  41%|████      | 203/500 [00:48<01:05,  4.53it/s]"
     ]
    },
    {
     "name": "stdout",
     "output_type": "stream",
     "text": [
      "Extracting features from image: 61qfHDESRQL.jpg\n",
      "Extracting features from image: 61QC4Kt6FgL.jpg\n"
     ]
    },
    {
     "name": "stderr",
     "output_type": "stream",
     "text": [
      "Extracting Features:  41%|████      | 205/500 [00:49<01:02,  4.75it/s]"
     ]
    },
    {
     "name": "stdout",
     "output_type": "stream",
     "text": [
      "Extracting features from image: 81+ZDpWM6aL.jpg\n",
      "Extracting features from image: 711unoPoAUL.jpg\n"
     ]
    },
    {
     "name": "stderr",
     "output_type": "stream",
     "text": [
      "Extracting Features:  41%|████      | 206/500 [00:49<01:02,  4.72it/s]"
     ]
    },
    {
     "name": "stdout",
     "output_type": "stream",
     "text": [
      "Extracting features from image: 91yjUjUz1PL.jpg\n"
     ]
    },
    {
     "name": "stderr",
     "output_type": "stream",
     "text": [
      "Extracting Features:  42%|████▏     | 208/500 [00:49<01:05,  4.43it/s]"
     ]
    },
    {
     "name": "stdout",
     "output_type": "stream",
     "text": [
      "Extracting features from image: 61iyjkBOWwL.jpg\n",
      "Extracting features from image: 81bWfMuySqL.jpg\n"
     ]
    },
    {
     "name": "stderr",
     "output_type": "stream",
     "text": [
      "Extracting Features:  42%|████▏     | 209/500 [00:50<01:10,  4.10it/s]"
     ]
    },
    {
     "name": "stdout",
     "output_type": "stream",
     "text": [
      "Extracting features from image: 81cNMlJ3rUL.jpg\n"
     ]
    },
    {
     "name": "stderr",
     "output_type": "stream",
     "text": [
      "Extracting Features:  42%|████▏     | 210/500 [00:50<01:11,  4.07it/s]"
     ]
    },
    {
     "name": "stdout",
     "output_type": "stream",
     "text": [
      "Extracting features from image: 71V8xeIdY8L.jpg\n"
     ]
    },
    {
     "name": "stderr",
     "output_type": "stream",
     "text": [
      "Extracting Features:  42%|████▏     | 211/500 [00:50<01:11,  4.03it/s]"
     ]
    },
    {
     "name": "stdout",
     "output_type": "stream",
     "text": [
      "Extracting features from image: 81QVNxEt5jL.jpg\n"
     ]
    },
    {
     "name": "stderr",
     "output_type": "stream",
     "text": [
      "Extracting Features:  42%|████▏     | 212/500 [00:50<01:10,  4.08it/s]"
     ]
    },
    {
     "name": "stdout",
     "output_type": "stream",
     "text": [
      "Extracting features from image: 61rzdBIml6S.jpg\n"
     ]
    },
    {
     "name": "stderr",
     "output_type": "stream",
     "text": [
      "Extracting Features:  43%|████▎     | 214/500 [00:51<01:05,  4.39it/s]"
     ]
    },
    {
     "name": "stdout",
     "output_type": "stream",
     "text": [
      "Extracting features from image: 71XLo+kfY4S.jpg\n",
      "Extracting features from image: 61GnRPsq7eS.jpg\n"
     ]
    },
    {
     "name": "stderr",
     "output_type": "stream",
     "text": [
      "Extracting Features:  43%|████▎     | 216/500 [00:51<01:04,  4.39it/s]"
     ]
    },
    {
     "name": "stdout",
     "output_type": "stream",
     "text": [
      "Extracting features from image: 71L-+M3VVPL.jpg\n",
      "Extracting features from image: 81OX3LrynvL.jpg\n"
     ]
    },
    {
     "name": "stderr",
     "output_type": "stream",
     "text": [
      "Extracting Features:  44%|████▎     | 218/500 [00:52<00:59,  4.71it/s]"
     ]
    },
    {
     "name": "stdout",
     "output_type": "stream",
     "text": [
      "Extracting features from image: 71CgwBBpm2L.jpg\n",
      "Extracting features from image: 61uEVvHFcnL.jpg\n"
     ]
    },
    {
     "name": "stderr",
     "output_type": "stream",
     "text": [
      "Extracting Features:  44%|████▍     | 220/500 [00:52<00:58,  4.79it/s]"
     ]
    },
    {
     "name": "stdout",
     "output_type": "stream",
     "text": [
      "Extracting features from image: 6186qz73QDL.jpg\n"
     ]
    },
    {
     "name": "stderr",
     "output_type": "stream",
     "text": [
      "Extracting Features:  44%|████▍     | 221/500 [00:52<00:55,  5.01it/s]"
     ]
    },
    {
     "name": "stdout",
     "output_type": "stream",
     "text": [
      "Extracting features from image: 51-GFfHUt5L.jpg\n",
      "Extracting features from image: 71wManz+q7L.jpg\n"
     ]
    },
    {
     "name": "stderr",
     "output_type": "stream",
     "text": [
      "Extracting Features:  45%|████▍     | 223/500 [00:53<00:57,  4.78it/s]"
     ]
    },
    {
     "name": "stdout",
     "output_type": "stream",
     "text": [
      "Extracting features from image: 71rBE9Nt9sL.jpg\n",
      "Extracting features from image: 61NpAba1eLL.jpg\n"
     ]
    },
    {
     "name": "stderr",
     "output_type": "stream",
     "text": [
      "Extracting Features:  45%|████▍     | 224/500 [00:53<00:54,  5.11it/s]"
     ]
    },
    {
     "name": "stdout",
     "output_type": "stream",
     "text": [
      "Extracting features from image: 81GfAC59d9L.jpg\n"
     ]
    },
    {
     "name": "stderr",
     "output_type": "stream",
     "text": [
      "Extracting Features:  45%|████▌     | 225/500 [00:53<01:00,  4.53it/s]"
     ]
    },
    {
     "name": "stdout",
     "output_type": "stream",
     "text": [
      "Extracting features from image: 71BkkuPYJFL.jpg\n"
     ]
    },
    {
     "name": "stderr",
     "output_type": "stream",
     "text": [
      "Extracting Features:  45%|████▌     | 227/500 [00:54<00:57,  4.73it/s]"
     ]
    },
    {
     "name": "stdout",
     "output_type": "stream",
     "text": [
      "Extracting features from image: 61k7TzX5kYL.jpg\n",
      "Extracting features from image: 81hGUpAFNJL.jpg\n"
     ]
    },
    {
     "name": "stderr",
     "output_type": "stream",
     "text": [
      "Extracting Features:  46%|████▌     | 229/500 [00:54<00:59,  4.53it/s]"
     ]
    },
    {
     "name": "stdout",
     "output_type": "stream",
     "text": [
      "Extracting features from image: 71iSbwHDcdL.jpg\n"
     ]
    },
    {
     "name": "stderr",
     "output_type": "stream",
     "text": [
      "Extracting Features:  46%|████▌     | 230/500 [00:54<00:56,  4.78it/s]"
     ]
    },
    {
     "name": "stdout",
     "output_type": "stream",
     "text": [
      "Extracting features from image: 81BxHI-QPIL.jpg\n",
      "Extracting features from image: 71WaRSgdUyL.jpg\n"
     ]
    },
    {
     "name": "stderr",
     "output_type": "stream",
     "text": [
      "Extracting Features:  46%|████▋     | 232/500 [00:55<00:56,  4.76it/s]"
     ]
    },
    {
     "name": "stdout",
     "output_type": "stream",
     "text": [
      "Extracting features from image: 61cEFL6Y49L.jpg\n",
      "Extracting features from image: 817S4LJR21L.jpg\n"
     ]
    },
    {
     "name": "stderr",
     "output_type": "stream",
     "text": [
      "Extracting Features:  47%|████▋     | 233/500 [00:55<00:59,  4.52it/s]"
     ]
    },
    {
     "name": "stdout",
     "output_type": "stream",
     "text": [
      "Extracting features from image: 81V9hFKQT4L.jpg\n"
     ]
    },
    {
     "name": "stderr",
     "output_type": "stream",
     "text": [
      "Extracting Features:  47%|████▋     | 234/500 [00:55<01:03,  4.20it/s]"
     ]
    },
    {
     "name": "stdout",
     "output_type": "stream",
     "text": [
      "Extracting features from image: 81i7biHKFUL.jpg\n"
     ]
    },
    {
     "name": "stderr",
     "output_type": "stream",
     "text": [
      "Extracting Features:  47%|████▋     | 235/500 [00:55<01:01,  4.29it/s]"
     ]
    },
    {
     "name": "stdout",
     "output_type": "stream",
     "text": [
      "Extracting features from image: 9146CDDyS1L.jpg\n"
     ]
    },
    {
     "name": "stderr",
     "output_type": "stream",
     "text": [
      "Extracting Features:  47%|████▋     | 237/500 [00:56<01:03,  4.17it/s]"
     ]
    },
    {
     "name": "stdout",
     "output_type": "stream",
     "text": [
      "Extracting features from image: 61zbBwJJ86L.jpg\n"
     ]
    },
    {
     "name": "stderr",
     "output_type": "stream",
     "text": [
      "Extracting Features:  48%|████▊     | 238/500 [00:56<00:57,  4.54it/s]"
     ]
    },
    {
     "name": "stdout",
     "output_type": "stream",
     "text": [
      "Extracting features from image: 61g2MIPw-SL.jpg\n",
      "Extracting features from image: 61rViW3qEDL.jpg\n"
     ]
    },
    {
     "name": "stderr",
     "output_type": "stream",
     "text": [
      "Extracting Features:  48%|████▊     | 240/500 [00:57<00:51,  5.10it/s]"
     ]
    },
    {
     "name": "stdout",
     "output_type": "stream",
     "text": [
      "Extracting features from image: 41fYovCueJL.jpg\n",
      "Extracting features from image: 61dL1hqmPTL.jpg\n"
     ]
    },
    {
     "name": "stderr",
     "output_type": "stream",
     "text": [
      "Extracting Features:  48%|████▊     | 242/500 [00:57<00:47,  5.43it/s]"
     ]
    },
    {
     "name": "stdout",
     "output_type": "stream",
     "text": [
      "Extracting features from image: 61ErAvSUnML.jpg\n",
      "Extracting features from image: 41J6cTfYEJL.jpg\n"
     ]
    },
    {
     "name": "stderr",
     "output_type": "stream",
     "text": [
      "Extracting Features:  49%|████▉     | 244/500 [00:57<00:45,  5.57it/s]"
     ]
    },
    {
     "name": "stdout",
     "output_type": "stream",
     "text": [
      "Extracting features from image: 51FHIAeaWpL.jpg\n",
      "Extracting features from image: 51egZNPkbmL.jpg\n"
     ]
    },
    {
     "name": "stderr",
     "output_type": "stream",
     "text": [
      "Extracting Features:  49%|████▉     | 245/500 [00:57<00:44,  5.73it/s]"
     ]
    },
    {
     "name": "stdout",
     "output_type": "stream",
     "text": [
      "Extracting features from image: 61ptgk7Z6NL.jpg\n"
     ]
    },
    {
     "name": "stderr",
     "output_type": "stream",
     "text": [
      "Extracting Features:  49%|████▉     | 247/500 [00:58<00:48,  5.17it/s]"
     ]
    },
    {
     "name": "stdout",
     "output_type": "stream",
     "text": [
      "Extracting features from image: 61mR0nvTi2L.jpg\n",
      "Extracting features from image: 71kKyflqh-L.jpg\n"
     ]
    },
    {
     "name": "stderr",
     "output_type": "stream",
     "text": [
      "Extracting Features:  50%|████▉     | 248/500 [00:58<00:55,  4.57it/s]"
     ]
    },
    {
     "name": "stdout",
     "output_type": "stream",
     "text": [
      "Extracting features from image: 81jraWFAHEL.jpg\n"
     ]
    },
    {
     "name": "stderr",
     "output_type": "stream",
     "text": [
      "Extracting Features:  50%|█████     | 250/500 [00:59<00:54,  4.57it/s]"
     ]
    },
    {
     "name": "stdout",
     "output_type": "stream",
     "text": [
      "Extracting features from image: 61q8BFKyG5L.jpg\n",
      "Extracting features from image: 711pKODV8fL.jpg\n"
     ]
    },
    {
     "name": "stderr",
     "output_type": "stream",
     "text": [
      "Extracting Features:  50%|█████     | 251/500 [00:59<00:53,  4.66it/s]"
     ]
    },
    {
     "name": "stdout",
     "output_type": "stream",
     "text": [
      "Extracting features from image: 818ZG7g9hHL.jpg\n"
     ]
    },
    {
     "name": "stderr",
     "output_type": "stream",
     "text": [
      "Extracting Features:  50%|█████     | 252/500 [00:59<00:54,  4.51it/s]"
     ]
    },
    {
     "name": "stdout",
     "output_type": "stream",
     "text": [
      "Extracting features from image: 818ZG7g9hHL.jpg\n"
     ]
    },
    {
     "name": "stderr",
     "output_type": "stream",
     "text": [
      "Extracting Features:  51%|█████     | 254/500 [00:59<00:53,  4.59it/s]"
     ]
    },
    {
     "name": "stdout",
     "output_type": "stream",
     "text": [
      "Extracting features from image: 719SXCcE+yL.jpg\n"
     ]
    },
    {
     "name": "stderr",
     "output_type": "stream",
     "text": [
      "Extracting Features:  51%|█████     | 255/500 [01:00<00:50,  4.84it/s]"
     ]
    },
    {
     "name": "stdout",
     "output_type": "stream",
     "text": [
      "Extracting features from image: 71KGqjaeU3L.jpg\n",
      "Extracting features from image: 81pIxwIlH1L.jpg\n"
     ]
    },
    {
     "name": "stderr",
     "output_type": "stream",
     "text": [
      "Extracting Features:  51%|█████     | 256/500 [01:00<00:51,  4.69it/s]"
     ]
    },
    {
     "name": "stdout",
     "output_type": "stream",
     "text": [
      "Extracting features from image: 81dTA+JL8hL.jpg\n"
     ]
    },
    {
     "name": "stderr",
     "output_type": "stream",
     "text": [
      "Extracting Features:  51%|█████▏    | 257/500 [01:00<00:55,  4.37it/s]"
     ]
    },
    {
     "name": "stdout",
     "output_type": "stream",
     "text": [
      "Extracting features from image: 91YXnPoBr9L.jpg\n"
     ]
    },
    {
     "name": "stderr",
     "output_type": "stream",
     "text": [
      "Extracting Features:  52%|█████▏    | 258/500 [01:00<00:56,  4.29it/s]"
     ]
    },
    {
     "name": "stdout",
     "output_type": "stream",
     "text": [
      "Extracting features from image: 61ssSqT8LBL.jpg\n"
     ]
    },
    {
     "name": "stderr",
     "output_type": "stream",
     "text": [
      "Extracting Features:  52%|█████▏    | 259/500 [01:01<01:00,  3.97it/s]"
     ]
    },
    {
     "name": "stdout",
     "output_type": "stream",
     "text": [
      "Extracting features from image: 71rMtEbiU2L.jpg\n"
     ]
    },
    {
     "name": "stderr",
     "output_type": "stream",
     "text": [
      "Extracting Features:  52%|█████▏    | 260/500 [01:01<00:57,  4.14it/s]"
     ]
    },
    {
     "name": "stdout",
     "output_type": "stream",
     "text": [
      "Extracting features from image: 71DngBpcvfL.jpg\n"
     ]
    },
    {
     "name": "stderr",
     "output_type": "stream",
     "text": [
      "Extracting Features:  52%|█████▏    | 261/500 [01:01<00:56,  4.22it/s]"
     ]
    },
    {
     "name": "stdout",
     "output_type": "stream",
     "text": [
      "Extracting features from image: 81eYKrxwPeL.jpg\n"
     ]
    },
    {
     "name": "stderr",
     "output_type": "stream",
     "text": [
      "Extracting Features:  53%|█████▎    | 263/500 [01:02<00:50,  4.71it/s]"
     ]
    },
    {
     "name": "stdout",
     "output_type": "stream",
     "text": [
      "Extracting features from image: 41yG6r50SGL.jpg\n",
      "Extracting features from image: 61CKA8YZZQL.jpg\n"
     ]
    },
    {
     "name": "stderr",
     "output_type": "stream",
     "text": [
      "Extracting Features:  53%|█████▎    | 265/500 [01:02<00:47,  4.90it/s]"
     ]
    },
    {
     "name": "stdout",
     "output_type": "stream",
     "text": [
      "Extracting features from image: 71GGzJw4lJL.jpg\n"
     ]
    },
    {
     "name": "stderr",
     "output_type": "stream",
     "text": [
      "Extracting Features:  53%|█████▎    | 266/500 [01:02<00:47,  4.88it/s]"
     ]
    },
    {
     "name": "stdout",
     "output_type": "stream",
     "text": [
      "Extracting features from image: 71s4ixwJ35L.jpg\n",
      "Extracting features from image: 61oJbgINwyL.jpg\n"
     ]
    },
    {
     "name": "stderr",
     "output_type": "stream",
     "text": [
      "Extracting Features:  53%|█████▎    | 267/500 [01:02<00:47,  4.89it/s]"
     ]
    },
    {
     "name": "stdout",
     "output_type": "stream",
     "text": [
      "Extracting features from image: 71xNXOBXbeL.jpg\n"
     ]
    },
    {
     "name": "stderr",
     "output_type": "stream",
     "text": [
      "Extracting Features:  54%|█████▎    | 268/500 [01:03<00:49,  4.73it/s]"
     ]
    },
    {
     "name": "stdout",
     "output_type": "stream",
     "text": [
      "Extracting features from image: 81ILq5SlokL.jpg\n"
     ]
    },
    {
     "name": "stderr",
     "output_type": "stream",
     "text": [
      "Extracting Features:  54%|█████▍    | 269/500 [01:03<00:50,  4.62it/s]"
     ]
    },
    {
     "name": "stdout",
     "output_type": "stream",
     "text": [
      "Extracting features from image: 61qBC3QCpKL.jpg\n"
     ]
    },
    {
     "name": "stderr",
     "output_type": "stream",
     "text": [
      "Extracting Features:  54%|█████▍    | 271/500 [01:03<00:49,  4.67it/s]"
     ]
    },
    {
     "name": "stdout",
     "output_type": "stream",
     "text": [
      "Extracting features from image: 41jz25vrqpL.jpg\n",
      "Extracting features from image: 81fRIl3bhHL.jpg\n"
     ]
    },
    {
     "name": "stderr",
     "output_type": "stream",
     "text": [
      "Extracting Features:  55%|█████▍    | 273/500 [01:04<00:48,  4.71it/s]"
     ]
    },
    {
     "name": "stdout",
     "output_type": "stream",
     "text": [
      "Extracting features from image: 61ZcOamhAXL.jpg\n",
      "Extracting features from image: 6179WU7pPnL.jpg\n"
     ]
    },
    {
     "name": "stderr",
     "output_type": "stream",
     "text": [
      "Extracting Features:  55%|█████▍    | 274/500 [01:04<00:45,  4.98it/s]"
     ]
    },
    {
     "name": "stdout",
     "output_type": "stream",
     "text": [
      "Extracting features from image: 711UcLF1AOL.jpg\n"
     ]
    },
    {
     "name": "stderr",
     "output_type": "stream",
     "text": [
      "Extracting Features:  55%|█████▌    | 275/500 [01:04<00:45,  4.91it/s]"
     ]
    },
    {
     "name": "stdout",
     "output_type": "stream",
     "text": [
      "Extracting features from image: 71bEyocs6cL.jpg\n"
     ]
    },
    {
     "name": "stderr",
     "output_type": "stream",
     "text": [
      "Extracting Features:  55%|█████▌    | 276/500 [01:04<00:46,  4.79it/s]"
     ]
    },
    {
     "name": "stdout",
     "output_type": "stream",
     "text": [
      "Extracting features from image: 81P0F4kSO5L.jpg\n"
     ]
    },
    {
     "name": "stderr",
     "output_type": "stream",
     "text": [
      "Extracting Features:  56%|█████▌    | 278/500 [01:05<00:47,  4.63it/s]"
     ]
    },
    {
     "name": "stdout",
     "output_type": "stream",
     "text": [
      "Extracting features from image: 61xt0+F24LL.jpg\n",
      "Extracting features from image: 41o+Ah16aOL.jpg\n"
     ]
    },
    {
     "name": "stderr",
     "output_type": "stream",
     "text": [
      "Extracting Features:  56%|█████▌    | 280/500 [01:05<00:41,  5.28it/s]"
     ]
    },
    {
     "name": "stdout",
     "output_type": "stream",
     "text": [
      "Extracting features from image: 61t+5wQl08L.jpg\n",
      "Extracting features from image: 61jznP3TP-L.jpg\n"
     ]
    },
    {
     "name": "stderr",
     "output_type": "stream",
     "text": [
      "Extracting Features:  56%|█████▋    | 282/500 [01:05<00:37,  5.76it/s]"
     ]
    },
    {
     "name": "stdout",
     "output_type": "stream",
     "text": [
      "Extracting features from image: 41UtmzUICML.jpg\n",
      "Extracting features from image: 71N+e+6NXUL.jpg\n"
     ]
    },
    {
     "name": "stderr",
     "output_type": "stream",
     "text": [
      "Extracting Features:  57%|█████▋    | 283/500 [01:06<00:39,  5.50it/s]"
     ]
    },
    {
     "name": "stdout",
     "output_type": "stream",
     "text": [
      "Extracting features from image: 71wSp5zkmOL.jpg\n"
     ]
    },
    {
     "name": "stderr",
     "output_type": "stream",
     "text": [
      "Extracting Features:  57%|█████▋    | 285/500 [01:06<00:40,  5.27it/s]"
     ]
    },
    {
     "name": "stdout",
     "output_type": "stream",
     "text": [
      "Extracting features from image: 61dRC9mLuLL.jpg\n",
      "Extracting features from image: 718Y1zul73L.jpg\n"
     ]
    },
    {
     "name": "stderr",
     "output_type": "stream",
     "text": [
      "Extracting Features:  57%|█████▋    | 287/500 [01:06<00:44,  4.78it/s]"
     ]
    },
    {
     "name": "stdout",
     "output_type": "stream",
     "text": [
      "Extracting features from image: 61HmWvlaCgS.jpg\n"
     ]
    },
    {
     "name": "stderr",
     "output_type": "stream",
     "text": [
      "Extracting Features:  58%|█████▊    | 288/500 [01:07<00:41,  5.07it/s]"
     ]
    },
    {
     "name": "stdout",
     "output_type": "stream",
     "text": [
      "Extracting features from image: 61hmMEg2+JL.jpg\n",
      "Extracting features from image: 717jdsjET2S.jpg\n"
     ]
    },
    {
     "name": "stderr",
     "output_type": "stream",
     "text": [
      "Extracting Features:  58%|█████▊    | 289/500 [01:07<00:42,  4.99it/s]"
     ]
    },
    {
     "name": "stdout",
     "output_type": "stream",
     "text": [
      "Extracting features from image: 71UctMVz2wL.jpg\n"
     ]
    },
    {
     "name": "stderr",
     "output_type": "stream",
     "text": [
      "Extracting Features:  58%|█████▊    | 290/500 [01:07<00:42,  4.92it/s]"
     ]
    },
    {
     "name": "stdout",
     "output_type": "stream",
     "text": [
      "Extracting features from image: 71Y2sN5CZ2L.jpg\n"
     ]
    },
    {
     "name": "stderr",
     "output_type": "stream",
     "text": [
      "Extracting Features:  58%|█████▊    | 292/500 [01:07<00:42,  4.89it/s]"
     ]
    },
    {
     "name": "stdout",
     "output_type": "stream",
     "text": [
      "Extracting features from image: 71TIH9xp14L.jpg\n"
     ]
    },
    {
     "name": "stderr",
     "output_type": "stream",
     "text": [
      "Extracting Features:  59%|█████▊    | 293/500 [01:08<00:41,  4.96it/s]"
     ]
    },
    {
     "name": "stdout",
     "output_type": "stream",
     "text": [
      "Extracting features from image: 51MfQdcFO4L.jpg\n"
     ]
    },
    {
     "name": "stderr",
     "output_type": "stream",
     "text": [
      "Extracting Features:  59%|█████▉    | 294/500 [01:08<00:41,  5.00it/s]"
     ]
    },
    {
     "name": "stdout",
     "output_type": "stream",
     "text": [
      "Extracting features from image: 61IZwm4favL.jpg\n",
      "Extracting features from image: 71Cpa4ITxCL.jpg\n"
     ]
    },
    {
     "name": "stderr",
     "output_type": "stream",
     "text": [
      "Extracting Features:  59%|█████▉    | 295/500 [01:08<00:43,  4.69it/s]"
     ]
    },
    {
     "name": "stdout",
     "output_type": "stream",
     "text": [
      "Extracting features from image: 71XKEn+9WSL.jpg\n"
     ]
    },
    {
     "name": "stderr",
     "output_type": "stream",
     "text": [
      "Extracting Features:  59%|█████▉    | 296/500 [01:08<00:43,  4.74it/s]"
     ]
    },
    {
     "name": "stdout",
     "output_type": "stream",
     "text": [
      "Extracting features from image: 71Yl8r0WgHL.jpg\n"
     ]
    },
    {
     "name": "stderr",
     "output_type": "stream",
     "text": [
      "Extracting Features:  59%|█████▉    | 297/500 [01:08<00:42,  4.75it/s]"
     ]
    },
    {
     "name": "stdout",
     "output_type": "stream",
     "text": [
      "Extracting features from image: 71VHlwzHsIL.jpg\n"
     ]
    },
    {
     "name": "stderr",
     "output_type": "stream",
     "text": [
      "Extracting Features:  60%|█████▉    | 298/500 [01:09<00:42,  4.77it/s]"
     ]
    },
    {
     "name": "stdout",
     "output_type": "stream",
     "text": [
      "Extracting features from image: 81aU1hA-LKL.jpg\n"
     ]
    },
    {
     "name": "stderr",
     "output_type": "stream",
     "text": [
      "Extracting Features:  60%|█████▉    | 299/500 [01:09<00:49,  4.09it/s]"
     ]
    },
    {
     "name": "stdout",
     "output_type": "stream",
     "text": [
      "Extracting features from image: 911ddalhbYL.jpg\n"
     ]
    },
    {
     "name": "stderr",
     "output_type": "stream",
     "text": [
      "Extracting Features:  60%|██████    | 301/500 [01:10<00:48,  4.10it/s]"
     ]
    },
    {
     "name": "stdout",
     "output_type": "stream",
     "text": [
      "Extracting features from image: 71CPTuB3GzL.jpg\n"
     ]
    },
    {
     "name": "stderr",
     "output_type": "stream",
     "text": [
      "Extracting Features:  60%|██████    | 302/500 [01:10<00:44,  4.44it/s]"
     ]
    },
    {
     "name": "stdout",
     "output_type": "stream",
     "text": [
      "Extracting features from image: 61ZR+zqTeFL.jpg\n",
      "Extracting features from image: 71IqOdJNJ0L.jpg\n"
     ]
    },
    {
     "name": "stderr",
     "output_type": "stream",
     "text": [
      "Extracting Features:  61%|██████    | 303/500 [01:10<00:45,  4.30it/s]"
     ]
    },
    {
     "name": "stdout",
     "output_type": "stream",
     "text": [
      "Extracting features from image: 812RLyHuZgL.jpg\n"
     ]
    },
    {
     "name": "stderr",
     "output_type": "stream",
     "text": [
      "Extracting Features:  61%|██████    | 305/500 [01:10<00:44,  4.42it/s]"
     ]
    },
    {
     "name": "stdout",
     "output_type": "stream",
     "text": [
      "Extracting features from image: 61nQgfAzcjL.jpg\n",
      "Extracting features from image: 51LXZCTnMuL.jpg\n"
     ]
    },
    {
     "name": "stderr",
     "output_type": "stream",
     "text": [
      "Extracting Features:  61%|██████▏   | 307/500 [01:11<00:37,  5.09it/s]"
     ]
    },
    {
     "name": "stdout",
     "output_type": "stream",
     "text": [
      "Extracting features from image: 71PKpcLG-3L.jpg\n",
      "Extracting features from image: 71om5sNcHSL.jpg\n"
     ]
    },
    {
     "name": "stderr",
     "output_type": "stream",
     "text": [
      "Extracting Features:  62%|██████▏   | 309/500 [01:11<00:36,  5.17it/s]"
     ]
    },
    {
     "name": "stdout",
     "output_type": "stream",
     "text": [
      "Extracting features from image: 51iLFnog-TL.jpg\n",
      "Extracting features from image: 71ZTyrP+83L.jpg\n"
     ]
    },
    {
     "name": "stderr",
     "output_type": "stream",
     "text": [
      "Extracting Features:  62%|██████▏   | 310/500 [01:11<00:39,  4.86it/s]"
     ]
    },
    {
     "name": "stdout",
     "output_type": "stream",
     "text": [
      "Extracting features from image: 71IXiyI6MgL.jpg\n"
     ]
    },
    {
     "name": "stderr",
     "output_type": "stream",
     "text": [
      "Extracting Features:  62%|██████▏   | 312/500 [01:12<00:38,  4.91it/s]"
     ]
    },
    {
     "name": "stdout",
     "output_type": "stream",
     "text": [
      "Extracting features from image: 71as9Ior9hL.jpg\n",
      "Extracting features from image: 71MG6eEeFZS.jpg\n"
     ]
    },
    {
     "name": "stderr",
     "output_type": "stream",
     "text": [
      "Extracting Features:  63%|██████▎   | 313/500 [01:12<00:39,  4.68it/s]"
     ]
    },
    {
     "name": "stdout",
     "output_type": "stream",
     "text": [
      "Extracting features from image: 81uaGW5FXGL.jpg\n"
     ]
    },
    {
     "name": "stderr",
     "output_type": "stream",
     "text": [
      "Extracting Features:  63%|██████▎   | 314/500 [01:12<00:40,  4.65it/s]"
     ]
    },
    {
     "name": "stdout",
     "output_type": "stream",
     "text": [
      "Extracting features from image: 81flV4kwOwL.jpg\n"
     ]
    },
    {
     "name": "stderr",
     "output_type": "stream",
     "text": [
      "Extracting Features:  63%|██████▎   | 316/500 [01:13<00:40,  4.52it/s]"
     ]
    },
    {
     "name": "stdout",
     "output_type": "stream",
     "text": [
      "Extracting features from image: 51xK4g4F03S.jpg\n"
     ]
    },
    {
     "name": "stderr",
     "output_type": "stream",
     "text": [
      "Extracting Features:  63%|██████▎   | 317/500 [01:13<00:37,  4.84it/s]"
     ]
    },
    {
     "name": "stdout",
     "output_type": "stream",
     "text": [
      "Extracting features from image: 51R15QuIuyL.jpg\n",
      "Extracting features from image: 51vgDwEY7xL.jpg\n"
     ]
    },
    {
     "name": "stderr",
     "output_type": "stream",
     "text": [
      "Extracting Features:  64%|██████▍   | 319/500 [01:13<00:36,  4.99it/s]"
     ]
    },
    {
     "name": "stdout",
     "output_type": "stream",
     "text": [
      "Extracting features from image: 81JoUrtkpmL.jpg\n",
      "Extracting features from image: 81VXdzB0RVL.jpg\n"
     ]
    },
    {
     "name": "stderr",
     "output_type": "stream",
     "text": [
      "Extracting Features:  64%|██████▍   | 320/500 [01:13<00:37,  4.77it/s]"
     ]
    },
    {
     "name": "stdout",
     "output_type": "stream",
     "text": [
      "Extracting features from image: 819iiEopcWL.jpg\n"
     ]
    },
    {
     "name": "stderr",
     "output_type": "stream",
     "text": [
      "Extracting Features:  64%|██████▍   | 321/500 [01:14<00:37,  4.71it/s]"
     ]
    },
    {
     "name": "stdout",
     "output_type": "stream",
     "text": [
      "Extracting features from image: 81OYyqNGOmL.jpg\n"
     ]
    },
    {
     "name": "stderr",
     "output_type": "stream",
     "text": [
      "Extracting Features:  64%|██████▍   | 322/500 [01:14<00:38,  4.58it/s]"
     ]
    },
    {
     "name": "stdout",
     "output_type": "stream",
     "text": [
      "Extracting features from image: 91zZGVgZh+L.jpg\n"
     ]
    },
    {
     "name": "stderr",
     "output_type": "stream",
     "text": [
      "Extracting Features:  65%|██████▍   | 323/500 [01:14<00:42,  4.17it/s]"
     ]
    },
    {
     "name": "stdout",
     "output_type": "stream",
     "text": [
      "Extracting features from image: 71U6lF5xVsL.jpg\n"
     ]
    },
    {
     "name": "stderr",
     "output_type": "stream",
     "text": [
      "Extracting Features:  65%|██████▌   | 325/500 [01:15<00:40,  4.31it/s]"
     ]
    },
    {
     "name": "stdout",
     "output_type": "stream",
     "text": [
      "Extracting features from image: 81-qTUhd0eL.jpg\n"
     ]
    },
    {
     "name": "stderr",
     "output_type": "stream",
     "text": [
      "Extracting Features:  65%|██████▌   | 326/500 [01:15<00:38,  4.53it/s]"
     ]
    },
    {
     "name": "stdout",
     "output_type": "stream",
     "text": [
      "Extracting features from image: 81MuNrz5V4L.jpg\n"
     ]
    },
    {
     "name": "stderr",
     "output_type": "stream",
     "text": [
      "Extracting Features:  65%|██████▌   | 327/500 [01:15<00:36,  4.79it/s]"
     ]
    },
    {
     "name": "stdout",
     "output_type": "stream",
     "text": [
      "Extracting features from image: 51PKOVajYoL.jpg\n",
      "Extracting features from image: 71FO3i3r+US.jpg\n"
     ]
    },
    {
     "name": "stderr",
     "output_type": "stream",
     "text": [
      "Extracting Features:  66%|██████▌   | 328/500 [01:15<00:41,  4.10it/s]"
     ]
    },
    {
     "name": "stdout",
     "output_type": "stream",
     "text": [
      "Extracting features from image: 71r5a-F3-BS.jpg\n"
     ]
    },
    {
     "name": "stderr",
     "output_type": "stream",
     "text": [
      "Extracting Features:  66%|██████▌   | 329/500 [01:16<00:40,  4.19it/s]"
     ]
    },
    {
     "name": "stdout",
     "output_type": "stream",
     "text": [
      "Extracting features from image: 81mBfsyl+DL.jpg\n"
     ]
    },
    {
     "name": "stderr",
     "output_type": "stream",
     "text": [
      "Extracting Features:  66%|██████▌   | 330/500 [01:16<00:41,  4.10it/s]"
     ]
    },
    {
     "name": "stdout",
     "output_type": "stream",
     "text": [
      "Extracting features from image: 714cnffNW3L.jpg\n"
     ]
    },
    {
     "name": "stderr",
     "output_type": "stream",
     "text": [
      "Extracting Features:  66%|██████▌   | 331/500 [01:16<00:42,  3.98it/s]"
     ]
    },
    {
     "name": "stdout",
     "output_type": "stream",
     "text": [
      "Extracting features from image: 81DMfLssTwL.jpg\n"
     ]
    },
    {
     "name": "stderr",
     "output_type": "stream",
     "text": [
      "Extracting Features:  67%|██████▋   | 333/500 [01:17<00:39,  4.27it/s]"
     ]
    },
    {
     "name": "stdout",
     "output_type": "stream",
     "text": [
      "Extracting features from image: 81M9xG3reDL.jpg\n"
     ]
    },
    {
     "name": "stderr",
     "output_type": "stream",
     "text": [
      "Extracting Features:  67%|██████▋   | 334/500 [01:17<00:37,  4.44it/s]"
     ]
    },
    {
     "name": "stdout",
     "output_type": "stream",
     "text": [
      "Extracting features from image: 71BqZJVE4kL.jpg\n"
     ]
    },
    {
     "name": "stderr",
     "output_type": "stream",
     "text": [
      "Extracting Features:  67%|██████▋   | 335/500 [01:17<00:36,  4.58it/s]"
     ]
    },
    {
     "name": "stdout",
     "output_type": "stream",
     "text": [
      "Extracting features from image: 81L5qqZU1NL.jpg\n",
      "Extracting features from image: 717z1HKi8oL.jpg\n"
     ]
    },
    {
     "name": "stderr",
     "output_type": "stream",
     "text": [
      "Extracting Features:  67%|██████▋   | 337/500 [01:17<00:32,  5.04it/s]"
     ]
    },
    {
     "name": "stdout",
     "output_type": "stream",
     "text": [
      "Extracting features from image: 71J+30S5EDL.jpg\n",
      "Extracting features from image: 71A2oqx3rmL.jpg\n"
     ]
    },
    {
     "name": "stderr",
     "output_type": "stream",
     "text": [
      "Extracting Features:  68%|██████▊   | 339/500 [01:18<00:32,  4.93it/s]"
     ]
    },
    {
     "name": "stdout",
     "output_type": "stream",
     "text": [
      "Extracting features from image: 91-tHcMlZzL.jpg\n"
     ]
    },
    {
     "name": "stderr",
     "output_type": "stream",
     "text": [
      "Extracting Features:  68%|██████▊   | 340/500 [01:18<00:29,  5.36it/s]"
     ]
    },
    {
     "name": "stdout",
     "output_type": "stream",
     "text": [
      "Extracting features from image: 71NFYx8fBXL.jpg\n",
      "Extracting features from image: 61vlGd51PeL.jpg\n"
     ]
    },
    {
     "name": "stderr",
     "output_type": "stream",
     "text": [
      "Extracting Features:  68%|██████▊   | 342/500 [01:18<00:27,  5.82it/s]"
     ]
    },
    {
     "name": "stdout",
     "output_type": "stream",
     "text": [
      "Extracting features from image: 61ZBhPKQ2xL.jpg\n",
      "Extracting features from image: 51zeZBf-HcL.jpg\n"
     ]
    },
    {
     "name": "stderr",
     "output_type": "stream",
     "text": [
      "Extracting Features:  69%|██████▊   | 343/500 [01:18<00:25,  6.17it/s]"
     ]
    },
    {
     "name": "stdout",
     "output_type": "stream",
     "text": [
      "Extracting features from image: 616boDUl2HL.jpg\n"
     ]
    },
    {
     "name": "stderr",
     "output_type": "stream",
     "text": [
      "Extracting Features:  69%|██████▉   | 345/500 [01:19<00:28,  5.52it/s]"
     ]
    },
    {
     "name": "stdout",
     "output_type": "stream",
     "text": [
      "Extracting features from image: 61Q-ggen5XL.jpg\n",
      "Extracting features from image: 8190fwx-OdL.jpg\n"
     ]
    },
    {
     "name": "stderr",
     "output_type": "stream",
     "text": [
      "Extracting Features:  69%|██████▉   | 347/500 [01:19<00:28,  5.41it/s]"
     ]
    },
    {
     "name": "stdout",
     "output_type": "stream",
     "text": [
      "Extracting features from image: 41CKvM8JV7L.jpg\n",
      "Extracting features from image: 71THO4WNG-L.jpg\n"
     ]
    },
    {
     "name": "stderr",
     "output_type": "stream",
     "text": [
      "Extracting Features:  70%|██████▉   | 349/500 [01:20<00:33,  4.50it/s]"
     ]
    },
    {
     "name": "stdout",
     "output_type": "stream",
     "text": [
      "Extracting features from image: 71J-AA3BW3L.jpg\n"
     ]
    },
    {
     "name": "stderr",
     "output_type": "stream",
     "text": [
      "Extracting Features:  70%|███████   | 350/500 [01:20<00:32,  4.65it/s]"
     ]
    },
    {
     "name": "stdout",
     "output_type": "stream",
     "text": [
      "Extracting features from image: 81PcR51hbUL.jpg\n"
     ]
    },
    {
     "name": "stderr",
     "output_type": "stream",
     "text": [
      "Extracting Features:  70%|███████   | 351/500 [01:20<00:31,  4.70it/s]"
     ]
    },
    {
     "name": "stdout",
     "output_type": "stream",
     "text": [
      "Extracting features from image: 717XYkhGpKL.jpg\n"
     ]
    },
    {
     "name": "stderr",
     "output_type": "stream",
     "text": [
      "Extracting Features:  70%|███████   | 352/500 [01:20<00:30,  4.85it/s]"
     ]
    },
    {
     "name": "stdout",
     "output_type": "stream",
     "text": [
      "Extracting features from image: 61ezcEdeQcL.jpg\n"
     ]
    },
    {
     "name": "stderr",
     "output_type": "stream",
     "text": [
      "Extracting Features:  71%|███████   | 353/500 [01:20<00:29,  5.02it/s]"
     ]
    },
    {
     "name": "stdout",
     "output_type": "stream",
     "text": [
      "Extracting features from image: 61gjCs2yeCL.jpg\n",
      "Extracting features from image: 51E+rGvwO0L.jpg\n"
     ]
    },
    {
     "name": "stderr",
     "output_type": "stream",
     "text": [
      "Extracting Features:  71%|███████   | 354/500 [01:21<00:26,  5.43it/s]"
     ]
    },
    {
     "name": "stdout",
     "output_type": "stream",
     "text": [
      "Extracting features from image: 811QUiTwekL.jpg\n"
     ]
    },
    {
     "name": "stderr",
     "output_type": "stream",
     "text": [
      "Extracting Features:  71%|███████   | 356/500 [01:21<00:27,  5.16it/s]"
     ]
    },
    {
     "name": "stdout",
     "output_type": "stream",
     "text": [
      "Extracting features from image: 71iifNw7WkL.jpg\n"
     ]
    },
    {
     "name": "stderr",
     "output_type": "stream",
     "text": [
      "Extracting Features:  71%|███████▏  | 357/500 [01:21<00:26,  5.49it/s]"
     ]
    },
    {
     "name": "stdout",
     "output_type": "stream",
     "text": [
      "Extracting features from image: 51YdPlXffPL.jpg\n",
      "Extracting features from image: 51eGoOSfx4L.jpg\n"
     ]
    },
    {
     "name": "stderr",
     "output_type": "stream",
     "text": [
      "Extracting Features:  72%|███████▏  | 359/500 [01:22<00:24,  5.87it/s]"
     ]
    },
    {
     "name": "stdout",
     "output_type": "stream",
     "text": [
      "Extracting features from image: 61Fxk72idwL.jpg\n",
      "Extracting features from image: 61cNUSZr+EL.jpg\n"
     ]
    },
    {
     "name": "stderr",
     "output_type": "stream",
     "text": [
      "Extracting Features:  72%|███████▏  | 361/500 [01:22<00:23,  5.80it/s]"
     ]
    },
    {
     "name": "stdout",
     "output_type": "stream",
     "text": [
      "Extracting features from image: 41egkCDTTML.jpg\n",
      "Extracting features from image: 6183amP6LdL.jpg\n"
     ]
    },
    {
     "name": "stderr",
     "output_type": "stream",
     "text": [
      "Extracting Features:  73%|███████▎  | 363/500 [01:22<00:23,  5.88it/s]"
     ]
    },
    {
     "name": "stdout",
     "output_type": "stream",
     "text": [
      "Extracting features from image: 61NpoOFjk6L.jpg\n",
      "Extracting features from image: 61DnguuYwbL.jpg\n"
     ]
    },
    {
     "name": "stderr",
     "output_type": "stream",
     "text": [
      "Extracting Features:  73%|███████▎  | 365/500 [01:23<00:22,  6.06it/s]"
     ]
    },
    {
     "name": "stdout",
     "output_type": "stream",
     "text": [
      "Extracting features from image: 71khUZBj+4L.jpg\n",
      "Extracting features from image: 715DgMR-hkL.jpg\n"
     ]
    },
    {
     "name": "stderr",
     "output_type": "stream",
     "text": [
      "Extracting Features:  73%|███████▎  | 366/500 [01:23<00:23,  5.82it/s]"
     ]
    },
    {
     "name": "stdout",
     "output_type": "stream",
     "text": [
      "Extracting features from image: 81xqMNmhEpL.jpg\n"
     ]
    },
    {
     "name": "stderr",
     "output_type": "stream",
     "text": [
      "Extracting Features:  74%|███████▎  | 368/500 [01:23<00:24,  5.39it/s]"
     ]
    },
    {
     "name": "stdout",
     "output_type": "stream",
     "text": [
      "Extracting features from image: 51En0fgN73L.jpg\n",
      "Extracting features from image: 81CYds5q79L.jpg\n"
     ]
    },
    {
     "name": "stderr",
     "output_type": "stream",
     "text": [
      "Extracting Features:  74%|███████▍  | 369/500 [01:23<00:29,  4.43it/s]"
     ]
    },
    {
     "name": "stdout",
     "output_type": "stream",
     "text": [
      "Extracting features from image: 81ssfOL5b-L.jpg\n"
     ]
    },
    {
     "name": "stderr",
     "output_type": "stream",
     "text": [
      "Extracting Features:  74%|███████▍  | 371/500 [01:24<00:27,  4.74it/s]"
     ]
    },
    {
     "name": "stdout",
     "output_type": "stream",
     "text": [
      "Extracting features from image: 61E9-xj8ciL.jpg\n",
      "Extracting features from image: 617Jckaf62L.jpg\n"
     ]
    },
    {
     "name": "stderr",
     "output_type": "stream",
     "text": [
      "Extracting Features:  75%|███████▍  | 373/500 [01:24<00:25,  4.98it/s]"
     ]
    },
    {
     "name": "stdout",
     "output_type": "stream",
     "text": [
      "Extracting features from image: 71RjWH103nS.jpg\n"
     ]
    },
    {
     "name": "stderr",
     "output_type": "stream",
     "text": [
      "Extracting Features:  75%|███████▍  | 374/500 [01:24<00:22,  5.50it/s]"
     ]
    },
    {
     "name": "stdout",
     "output_type": "stream",
     "text": [
      "Extracting features from image: 51Ak7GKuiLL.jpg\n",
      "Extracting features from image: 71BTB4+8bWL.jpg\n"
     ]
    },
    {
     "name": "stderr",
     "output_type": "stream",
     "text": [
      "Extracting Features:  75%|███████▌  | 375/500 [01:25<00:25,  4.90it/s]"
     ]
    },
    {
     "name": "stdout",
     "output_type": "stream",
     "text": [
      "Extracting features from image: 717izgnf0qL.jpg\n"
     ]
    },
    {
     "name": "stderr",
     "output_type": "stream",
     "text": [
      "Extracting Features:  75%|███████▌  | 376/500 [01:25<00:26,  4.67it/s]"
     ]
    },
    {
     "name": "stdout",
     "output_type": "stream",
     "text": [
      "Extracting features from image: 918PpLvmRHL.jpg\n"
     ]
    },
    {
     "name": "stderr",
     "output_type": "stream",
     "text": [
      "Extracting Features:  76%|███████▌  | 378/500 [01:25<00:26,  4.61it/s]"
     ]
    },
    {
     "name": "stdout",
     "output_type": "stream",
     "text": [
      "Extracting features from image: 71KQtc1rA6L.jpg\n",
      "Extracting features from image: 71DwqzSrFCL.jpg\n"
     ]
    },
    {
     "name": "stderr",
     "output_type": "stream",
     "text": [
      "Extracting Features:  76%|███████▌  | 380/500 [01:26<00:23,  5.17it/s]"
     ]
    },
    {
     "name": "stdout",
     "output_type": "stream",
     "text": [
      "Extracting features from image: 61BmXdBPeAL.jpg\n",
      "Extracting features from image: 61EZUdXT3vL.jpg\n"
     ]
    },
    {
     "name": "stderr",
     "output_type": "stream",
     "text": [
      "Extracting Features:  76%|███████▋  | 382/500 [01:26<00:21,  5.55it/s]"
     ]
    },
    {
     "name": "stdout",
     "output_type": "stream",
     "text": [
      "Extracting features from image: 41-GUSWgzWL.jpg\n",
      "Extracting features from image: 41zNB8ZshmL.jpg\n"
     ]
    },
    {
     "name": "stderr",
     "output_type": "stream",
     "text": [
      "Extracting Features:  77%|███████▋  | 384/500 [01:26<00:20,  5.58it/s]"
     ]
    },
    {
     "name": "stdout",
     "output_type": "stream",
     "text": [
      "Extracting features from image: 611UdEWakYL.jpg\n"
     ]
    },
    {
     "name": "stderr",
     "output_type": "stream",
     "text": [
      "Extracting Features:  77%|███████▋  | 385/500 [01:27<00:20,  5.55it/s]"
     ]
    },
    {
     "name": "stdout",
     "output_type": "stream",
     "text": [
      "Extracting features from image: 71xH9zWYDXL.jpg\n",
      "Extracting features from image: 81yGnWN1gpL.jpg\n"
     ]
    },
    {
     "name": "stderr",
     "output_type": "stream",
     "text": [
      "Extracting Features:  77%|███████▋  | 386/500 [01:27<00:19,  5.82it/s]"
     ]
    },
    {
     "name": "stdout",
     "output_type": "stream",
     "text": [
      "Extracting features from image: 71iJwszcKmL.jpg\n"
     ]
    },
    {
     "name": "stderr",
     "output_type": "stream",
     "text": [
      "Extracting Features:  77%|███████▋  | 387/500 [01:27<00:20,  5.44it/s]"
     ]
    },
    {
     "name": "stdout",
     "output_type": "stream",
     "text": [
      "Extracting features from image: 814zl+0TMJL.jpg\n"
     ]
    },
    {
     "name": "stderr",
     "output_type": "stream",
     "text": [
      "Extracting Features:  78%|███████▊  | 389/500 [01:27<00:21,  5.15it/s]"
     ]
    },
    {
     "name": "stdout",
     "output_type": "stream",
     "text": [
      "Extracting features from image: 41fX-OWziML.jpg\n",
      "Extracting features from image: 71uSbcePMFL.jpg\n"
     ]
    },
    {
     "name": "stderr",
     "output_type": "stream",
     "text": [
      "Extracting Features:  78%|███████▊  | 391/500 [01:28<00:19,  5.46it/s]"
     ]
    },
    {
     "name": "stdout",
     "output_type": "stream",
     "text": [
      "Extracting features from image: 4147dGptveL.jpg\n",
      "Extracting features from image: 616vBbocrvL.jpg\n"
     ]
    },
    {
     "name": "stderr",
     "output_type": "stream",
     "text": [
      "Extracting Features:  79%|███████▊  | 393/500 [01:28<00:19,  5.36it/s]"
     ]
    },
    {
     "name": "stdout",
     "output_type": "stream",
     "text": [
      "Extracting features from image: 814BwteCiwL.jpg\n",
      "Extracting features from image: 81k08BRlQdL.jpg\n"
     ]
    },
    {
     "name": "stderr",
     "output_type": "stream",
     "text": [
      "Extracting Features:  79%|███████▉  | 395/500 [01:28<00:19,  5.37it/s]"
     ]
    },
    {
     "name": "stdout",
     "output_type": "stream",
     "text": [
      "Extracting features from image: 51ZPy1PgAnL.jpg\n",
      "Extracting features from image: 81cXf6HnPWL.jpg\n"
     ]
    },
    {
     "name": "stderr",
     "output_type": "stream",
     "text": [
      "Extracting Features:  79%|███████▉  | 397/500 [01:29<00:19,  5.29it/s]"
     ]
    },
    {
     "name": "stdout",
     "output_type": "stream",
     "text": [
      "Extracting features from image: 716Gw2+1EzL.jpg\n"
     ]
    },
    {
     "name": "stderr",
     "output_type": "stream",
     "text": [
      "Extracting Features:  80%|███████▉  | 398/500 [01:29<00:19,  5.32it/s]"
     ]
    },
    {
     "name": "stdout",
     "output_type": "stream",
     "text": [
      "Extracting features from image: 71JCDu6h05S.jpg\n"
     ]
    },
    {
     "name": "stderr",
     "output_type": "stream",
     "text": [
      "Extracting Features:  80%|███████▉  | 399/500 [01:29<00:19,  5.15it/s]"
     ]
    },
    {
     "name": "stdout",
     "output_type": "stream",
     "text": [
      "Extracting features from image: 71oiYZsDN2L.jpg\n"
     ]
    },
    {
     "name": "stderr",
     "output_type": "stream",
     "text": [
      "Extracting Features:  80%|████████  | 400/500 [01:29<00:19,  5.26it/s]"
     ]
    },
    {
     "name": "stdout",
     "output_type": "stream",
     "text": [
      "Extracting features from image: 718QeeH3QyL.jpg\n",
      "Extracting features from image: 81xiCm7XYWL.jpg\n"
     ]
    },
    {
     "name": "stderr",
     "output_type": "stream",
     "text": [
      "Extracting Features:  80%|████████  | 402/500 [01:30<00:20,  4.84it/s]"
     ]
    },
    {
     "name": "stdout",
     "output_type": "stream",
     "text": [
      "Extracting features from image: 71qMt6EnwlL.jpg\n"
     ]
    },
    {
     "name": "stderr",
     "output_type": "stream",
     "text": [
      "Extracting Features:  81%|████████  | 403/500 [01:30<00:19,  5.01it/s]"
     ]
    },
    {
     "name": "stdout",
     "output_type": "stream",
     "text": [
      "Extracting features from image: 612WwnwSEzL.jpg\n"
     ]
    },
    {
     "name": "stderr",
     "output_type": "stream",
     "text": [
      "Extracting Features:  81%|████████  | 404/500 [01:30<00:18,  5.21it/s]"
     ]
    },
    {
     "name": "stdout",
     "output_type": "stream",
     "text": [
      "Extracting features from image: 61MGk3PsxcL.jpg\n",
      "Extracting features from image: 61e7EW6lRvL.jpg\n"
     ]
    },
    {
     "name": "stderr",
     "output_type": "stream",
     "text": [
      "Extracting Features:  81%|████████  | 405/500 [01:30<00:18,  5.16it/s]"
     ]
    },
    {
     "name": "stdout",
     "output_type": "stream",
     "text": [
      "Extracting features from image: 7104ARm7I-L.jpg\n"
     ]
    },
    {
     "name": "stderr",
     "output_type": "stream",
     "text": [
      "Extracting Features:  81%|████████  | 406/500 [01:31<00:18,  4.97it/s]"
     ]
    },
    {
     "name": "stdout",
     "output_type": "stream",
     "text": [
      "Extracting features from image: 71V3-MUsc6L.jpg\n"
     ]
    },
    {
     "name": "stderr",
     "output_type": "stream",
     "text": [
      "Extracting Features:  82%|████████▏ | 408/500 [01:31<00:20,  4.58it/s]"
     ]
    },
    {
     "name": "stdout",
     "output_type": "stream",
     "text": [
      "Extracting features from image: 71Eszh9j23L.jpg\n"
     ]
    },
    {
     "name": "stderr",
     "output_type": "stream",
     "text": [
      "Extracting Features:  82%|████████▏ | 409/500 [01:31<00:18,  4.91it/s]"
     ]
    },
    {
     "name": "stdout",
     "output_type": "stream",
     "text": [
      "Extracting features from image: 71guQr5cqaL.jpg\n",
      "Extracting features from image: 71cmBtqE8NL.jpg\n"
     ]
    },
    {
     "name": "stderr",
     "output_type": "stream",
     "text": [
      "Extracting Features:  82%|████████▏ | 411/500 [01:32<00:16,  5.49it/s]"
     ]
    },
    {
     "name": "stdout",
     "output_type": "stream",
     "text": [
      "Extracting features from image: 71C4XXPcZ3L.jpg\n",
      "Extracting features from image: 61L4wjI4YEL.jpg\n"
     ]
    },
    {
     "name": "stderr",
     "output_type": "stream",
     "text": [
      "Extracting Features:  83%|████████▎ | 413/500 [01:32<00:14,  5.92it/s]"
     ]
    },
    {
     "name": "stdout",
     "output_type": "stream",
     "text": [
      "Extracting features from image: 410gyMVw-UL.jpg\n",
      "Extracting features from image: 81ZWxc+sUML.jpg\n"
     ]
    },
    {
     "name": "stderr",
     "output_type": "stream",
     "text": [
      "Extracting Features:  83%|████████▎ | 415/500 [01:32<00:16,  5.23it/s]"
     ]
    },
    {
     "name": "stdout",
     "output_type": "stream",
     "text": [
      "Extracting features from image: 71dl7T4AWKL.jpg\n"
     ]
    },
    {
     "name": "stderr",
     "output_type": "stream",
     "text": [
      "Extracting Features:  83%|████████▎ | 416/500 [01:33<00:15,  5.26it/s]"
     ]
    },
    {
     "name": "stdout",
     "output_type": "stream",
     "text": [
      "Extracting features from image: 61DHSHAPVLL.jpg\n"
     ]
    },
    {
     "name": "stderr",
     "output_type": "stream",
     "text": [
      "Extracting Features:  83%|████████▎ | 417/500 [01:33<00:15,  5.28it/s]"
     ]
    },
    {
     "name": "stdout",
     "output_type": "stream",
     "text": [
      "Extracting features from image: 71u9qpY7TtL.jpg\n",
      "Extracting features from image: 81TYV2TkiGL.jpg\n"
     ]
    },
    {
     "name": "stderr",
     "output_type": "stream",
     "text": [
      "Extracting Features:  84%|████████▍ | 419/500 [01:33<00:16,  4.97it/s]"
     ]
    },
    {
     "name": "stdout",
     "output_type": "stream",
     "text": [
      "Extracting features from image: 71c-++zgVxL.jpg\n"
     ]
    },
    {
     "name": "stderr",
     "output_type": "stream",
     "text": [
      "Extracting Features:  84%|████████▍ | 420/500 [01:33<00:15,  5.13it/s]"
     ]
    },
    {
     "name": "stdout",
     "output_type": "stream",
     "text": [
      "Extracting features from image: 71c0GP5KuPL.jpg\n"
     ]
    },
    {
     "name": "stderr",
     "output_type": "stream",
     "text": [
      "Extracting Features:  84%|████████▍ | 421/500 [01:34<00:14,  5.49it/s]"
     ]
    },
    {
     "name": "stdout",
     "output_type": "stream",
     "text": [
      "Extracting features from image: 51KGPCaOwyL.jpg\n",
      "Extracting features from image: 71ws-E5lBtL.jpg\n"
     ]
    },
    {
     "name": "stderr",
     "output_type": "stream",
     "text": [
      "Extracting Features:  85%|████████▍ | 423/500 [01:34<00:13,  5.64it/s]"
     ]
    },
    {
     "name": "stdout",
     "output_type": "stream",
     "text": [
      "Extracting features from image: 51DnP-sc-YL.jpg\n",
      "Extracting features from image: 61sYpkCc8gL.jpg\n"
     ]
    },
    {
     "name": "stderr",
     "output_type": "stream",
     "text": [
      "Extracting Features:  85%|████████▍ | 424/500 [01:34<00:13,  5.60it/s]"
     ]
    },
    {
     "name": "stdout",
     "output_type": "stream",
     "text": [
      "Extracting features from image: 71LlzAFiptL.jpg\n"
     ]
    },
    {
     "name": "stderr",
     "output_type": "stream",
     "text": [
      "Extracting Features:  85%|████████▌ | 426/500 [01:34<00:14,  5.22it/s]"
     ]
    },
    {
     "name": "stdout",
     "output_type": "stream",
     "text": [
      "Extracting features from image: 71pvXAM5PWL.jpg\n",
      "Extracting features from image: 71pvXAM5PWL.jpg\n"
     ]
    },
    {
     "name": "stderr",
     "output_type": "stream",
     "text": [
      "Extracting Features:  85%|████████▌ | 427/500 [01:35<00:13,  5.37it/s]"
     ]
    },
    {
     "name": "stdout",
     "output_type": "stream",
     "text": [
      "Extracting features from image: 811zQczlePL.jpg\n"
     ]
    },
    {
     "name": "stderr",
     "output_type": "stream",
     "text": [
      "Extracting Features:  86%|████████▌ | 428/500 [01:35<00:13,  5.18it/s]"
     ]
    },
    {
     "name": "stdout",
     "output_type": "stream",
     "text": [
      "Extracting features from image: 81cjPJpZ3-L.jpg\n"
     ]
    },
    {
     "name": "stderr",
     "output_type": "stream",
     "text": [
      "Extracting Features:  86%|████████▌ | 430/500 [01:35<00:13,  5.05it/s]"
     ]
    },
    {
     "name": "stdout",
     "output_type": "stream",
     "text": [
      "Extracting features from image: 616k4sH4pZL.jpg\n"
     ]
    },
    {
     "name": "stderr",
     "output_type": "stream",
     "text": [
      "Extracting Features:  86%|████████▌ | 431/500 [01:35<00:12,  5.32it/s]"
     ]
    },
    {
     "name": "stdout",
     "output_type": "stream",
     "text": [
      "Extracting features from image: 51+N63vjwWL.jpg\n",
      "Extracting features from image: 71w+ZJKvGML.jpg\n"
     ]
    },
    {
     "name": "stderr",
     "output_type": "stream",
     "text": [
      "Extracting Features:  87%|████████▋ | 433/500 [01:36<00:12,  5.24it/s]"
     ]
    },
    {
     "name": "stdout",
     "output_type": "stream",
     "text": [
      "Extracting features from image: 51ewovtbRtL.jpg\n",
      "Extracting features from image: 819v28pzDoL.jpg\n"
     ]
    },
    {
     "name": "stderr",
     "output_type": "stream",
     "text": [
      "Extracting Features:  87%|████████▋ | 434/500 [01:36<00:14,  4.64it/s]"
     ]
    },
    {
     "name": "stdout",
     "output_type": "stream",
     "text": [
      "Extracting features from image: 81yidnjAQ+L.jpg\n"
     ]
    },
    {
     "name": "stderr",
     "output_type": "stream",
     "text": [
      "Extracting Features:  87%|████████▋ | 436/500 [01:37<00:13,  4.72it/s]"
     ]
    },
    {
     "name": "stdout",
     "output_type": "stream",
     "text": [
      "Extracting features from image: 71D81Xct+vL.jpg\n",
      "Extracting features from image: 7107fyOBRRL.jpg\n"
     ]
    },
    {
     "name": "stderr",
     "output_type": "stream",
     "text": [
      "Extracting Features:  87%|████████▋ | 437/500 [01:37<00:12,  5.02it/s]"
     ]
    },
    {
     "name": "stdout",
     "output_type": "stream",
     "text": [
      "Extracting features from image: 71ubk42imPL.jpg\n"
     ]
    },
    {
     "name": "stderr",
     "output_type": "stream",
     "text": [
      "Extracting Features:  88%|████████▊ | 439/500 [01:37<00:12,  5.00it/s]"
     ]
    },
    {
     "name": "stdout",
     "output_type": "stream",
     "text": [
      "Extracting features from image: 41wv12SiMUS.jpg\n",
      "Extracting features from image: 719tUNMxONL.jpg\n"
     ]
    },
    {
     "name": "stderr",
     "output_type": "stream",
     "text": [
      "Extracting Features:  88%|████████▊ | 441/500 [01:37<00:10,  5.42it/s]"
     ]
    },
    {
     "name": "stdout",
     "output_type": "stream",
     "text": [
      "Extracting features from image: 616AZ2LXWAL.jpg\n",
      "Extracting features from image: 51xoa3bRhDL.jpg\n"
     ]
    },
    {
     "name": "stderr",
     "output_type": "stream",
     "text": [
      "Extracting Features:  88%|████████▊ | 442/500 [01:38<00:09,  5.91it/s]"
     ]
    },
    {
     "name": "stdout",
     "output_type": "stream",
     "text": [
      "Extracting features from image: 61AqXby8G4L.jpg\n"
     ]
    },
    {
     "name": "stderr",
     "output_type": "stream",
     "text": [
      "Extracting Features:  89%|████████▊ | 443/500 [01:38<00:10,  5.50it/s]"
     ]
    },
    {
     "name": "stdout",
     "output_type": "stream",
     "text": [
      "Extracting features from image: 71-9z6AVvPL.jpg\n"
     ]
    },
    {
     "name": "stderr",
     "output_type": "stream",
     "text": [
      "Extracting Features:  89%|████████▉ | 444/500 [01:38<00:10,  5.31it/s]"
     ]
    },
    {
     "name": "stdout",
     "output_type": "stream",
     "text": [
      "Extracting features from image: 81gL5mNlN8L.jpg\n"
     ]
    },
    {
     "name": "stderr",
     "output_type": "stream",
     "text": [
      "Extracting Features:  89%|████████▉ | 446/500 [01:38<00:10,  5.07it/s]"
     ]
    },
    {
     "name": "stdout",
     "output_type": "stream",
     "text": [
      "Extracting features from image: 71EhZZVhi2L.jpg\n",
      "Extracting features from image: 81cYIj47SPL.jpg\n"
     ]
    },
    {
     "name": "stderr",
     "output_type": "stream",
     "text": [
      "Extracting Features:  90%|████████▉ | 448/500 [01:39<00:10,  4.93it/s]"
     ]
    },
    {
     "name": "stdout",
     "output_type": "stream",
     "text": [
      "Extracting features from image: 91rFLNmJC4L.jpg\n"
     ]
    },
    {
     "name": "stderr",
     "output_type": "stream",
     "text": [
      "Extracting Features:  90%|████████▉ | 449/500 [01:39<00:10,  5.04it/s]"
     ]
    },
    {
     "name": "stdout",
     "output_type": "stream",
     "text": [
      "Extracting features from image: 61fUGb1nYML.jpg\n",
      "Extracting features from image: 61o8MpHHsnL.jpg\n"
     ]
    },
    {
     "name": "stderr",
     "output_type": "stream",
     "text": [
      "Extracting Features:  90%|█████████ | 450/500 [01:39<00:10,  4.86it/s]"
     ]
    },
    {
     "name": "stdout",
     "output_type": "stream",
     "text": [
      "Extracting features from image: 71s5Tk5r4tL.jpg\n"
     ]
    },
    {
     "name": "stderr",
     "output_type": "stream",
     "text": [
      "Extracting Features:  90%|█████████ | 452/500 [01:40<00:09,  4.88it/s]"
     ]
    },
    {
     "name": "stdout",
     "output_type": "stream",
     "text": [
      "Extracting features from image: 61SsfLTCHcL.jpg\n",
      "Extracting features from image: 61Kzp6mUyDL.jpg\n"
     ]
    },
    {
     "name": "stderr",
     "output_type": "stream",
     "text": [
      "Extracting Features:  91%|█████████ | 454/500 [01:40<00:09,  5.05it/s]"
     ]
    },
    {
     "name": "stdout",
     "output_type": "stream",
     "text": [
      "Extracting features from image: 7122mFDMKdL.jpg\n",
      "Extracting features from image: 914b-Rbu8sL.jpg\n"
     ]
    },
    {
     "name": "stderr",
     "output_type": "stream",
     "text": [
      "Extracting Features:  91%|█████████ | 456/500 [01:40<00:09,  4.78it/s]"
     ]
    },
    {
     "name": "stdout",
     "output_type": "stream",
     "text": [
      "Extracting features from image: 61QLqAtk49L.jpg\n",
      "Extracting features from image: 71oR4f2O8TL.jpg\n"
     ]
    },
    {
     "name": "stderr",
     "output_type": "stream",
     "text": [
      "Extracting Features:  91%|█████████▏| 457/500 [01:41<00:08,  5.09it/s]"
     ]
    },
    {
     "name": "stdout",
     "output_type": "stream",
     "text": [
      "Extracting features from image: 91CFwJYqSIL.jpg\n"
     ]
    },
    {
     "name": "stderr",
     "output_type": "stream",
     "text": [
      "Extracting Features:  92%|█████████▏| 459/500 [01:41<00:08,  4.66it/s]"
     ]
    },
    {
     "name": "stdout",
     "output_type": "stream",
     "text": [
      "Extracting features from image: 61EtovzpV8L.jpg\n"
     ]
    },
    {
     "name": "stderr",
     "output_type": "stream",
     "text": [
      "Extracting Features:  92%|█████████▏| 460/500 [01:41<00:08,  4.75it/s]"
     ]
    },
    {
     "name": "stdout",
     "output_type": "stream",
     "text": [
      "Extracting features from image: 71DdZjdjY2L.jpg\n"
     ]
    },
    {
     "name": "stderr",
     "output_type": "stream",
     "text": [
      "Extracting Features:  92%|█████████▏| 461/500 [01:42<00:08,  4.86it/s]"
     ]
    },
    {
     "name": "stdout",
     "output_type": "stream",
     "text": [
      "Extracting features from image: 81Lk7YnVq6L.jpg\n",
      "Extracting features from image: 61kX5ScRxdL.jpg\n"
     ]
    },
    {
     "name": "stderr",
     "output_type": "stream",
     "text": [
      "Extracting Features:  93%|█████████▎| 463/500 [01:42<00:07,  4.69it/s]"
     ]
    },
    {
     "name": "stdout",
     "output_type": "stream",
     "text": [
      "Extracting features from image: 512zELhKnmL.jpg\n"
     ]
    },
    {
     "name": "stderr",
     "output_type": "stream",
     "text": [
      "Extracting Features:  93%|█████████▎| 464/500 [01:42<00:07,  4.98it/s]"
     ]
    },
    {
     "name": "stdout",
     "output_type": "stream",
     "text": [
      "Extracting features from image: 51bvN6sQJZL.jpg\n",
      "Extracting features from image: 61BJZI+N6FL.jpg\n"
     ]
    },
    {
     "name": "stderr",
     "output_type": "stream",
     "text": [
      "Extracting Features:  93%|█████████▎| 465/500 [01:42<00:06,  5.03it/s]"
     ]
    },
    {
     "name": "stdout",
     "output_type": "stream",
     "text": [
      "Extracting features from image: 71dQhAkuiXL.jpg\n"
     ]
    },
    {
     "name": "stderr",
     "output_type": "stream",
     "text": [
      "Extracting Features:  93%|█████████▎| 467/500 [01:43<00:06,  5.00it/s]"
     ]
    },
    {
     "name": "stdout",
     "output_type": "stream",
     "text": [
      "Extracting features from image: 71iCDzf3SVL.jpg\n"
     ]
    },
    {
     "name": "stderr",
     "output_type": "stream",
     "text": [
      "Extracting Features:  94%|█████████▎| 468/500 [01:43<00:06,  5.10it/s]"
     ]
    },
    {
     "name": "stdout",
     "output_type": "stream",
     "text": [
      "Extracting features from image: 71FSLU7TEyL.jpg\n",
      "Extracting features from image: 71-q0hAgSSL.jpg\n"
     ]
    },
    {
     "name": "stderr",
     "output_type": "stream",
     "text": [
      "Extracting Features:  94%|█████████▍| 470/500 [01:43<00:06,  4.81it/s]"
     ]
    },
    {
     "name": "stdout",
     "output_type": "stream",
     "text": [
      "Extracting features from image: 7127o10t9tL.jpg\n"
     ]
    },
    {
     "name": "stderr",
     "output_type": "stream",
     "text": [
      "Extracting Features:  94%|█████████▍| 471/500 [01:44<00:05,  5.16it/s]"
     ]
    },
    {
     "name": "stdout",
     "output_type": "stream",
     "text": [
      "Extracting features from image: 71jD7X6Eo5L.jpg\n",
      "Extracting features from image: 51WKciNNXsL.jpg\n"
     ]
    },
    {
     "name": "stderr",
     "output_type": "stream",
     "text": [
      "Extracting Features:  95%|█████████▍| 473/500 [01:44<00:04,  5.64it/s]"
     ]
    },
    {
     "name": "stdout",
     "output_type": "stream",
     "text": [
      "Extracting features from image: 313aG8L3-rL.jpg\n",
      "Extracting features from image: 31aalwb8cdL.jpg\n"
     ]
    },
    {
     "name": "stderr",
     "output_type": "stream",
     "text": [
      "Extracting Features:  95%|█████████▍| 474/500 [01:44<00:04,  5.87it/s]"
     ]
    },
    {
     "name": "stdout",
     "output_type": "stream",
     "text": [
      "Extracting features from image: 71slQD6kfYL.jpg\n"
     ]
    },
    {
     "name": "stderr",
     "output_type": "stream",
     "text": [
      "Extracting Features:  95%|█████████▌| 476/500 [01:44<00:04,  5.64it/s]"
     ]
    },
    {
     "name": "stdout",
     "output_type": "stream",
     "text": [
      "Extracting features from image: 51xVMJXeyUL.jpg\n",
      "Extracting features from image: 61LThsu6KrL.jpg\n"
     ]
    },
    {
     "name": "stderr",
     "output_type": "stream",
     "text": [
      "Extracting Features:  96%|█████████▌| 478/500 [01:45<00:03,  6.04it/s]"
     ]
    },
    {
     "name": "stdout",
     "output_type": "stream",
     "text": [
      "Extracting features from image: 61KcdM-rxqL.jpg\n",
      "Extracting features from image: 41ZqgLmAOpL.jpg\n"
     ]
    },
    {
     "name": "stderr",
     "output_type": "stream",
     "text": [
      "Extracting Features:  96%|█████████▌| 479/500 [01:45<00:03,  6.28it/s]"
     ]
    },
    {
     "name": "stdout",
     "output_type": "stream",
     "text": [
      "Extracting features from image: 814tdSHcsrL.jpg\n"
     ]
    },
    {
     "name": "stderr",
     "output_type": "stream",
     "text": [
      "Extracting Features:  96%|█████████▌| 480/500 [01:45<00:03,  5.22it/s]"
     ]
    },
    {
     "name": "stdout",
     "output_type": "stream",
     "text": [
      "Extracting features from image: 71q-GgOyiWL.jpg\n"
     ]
    },
    {
     "name": "stderr",
     "output_type": "stream",
     "text": [
      "Extracting Features:  96%|█████████▌| 481/500 [01:45<00:03,  4.97it/s]"
     ]
    },
    {
     "name": "stdout",
     "output_type": "stream",
     "text": [
      "Extracting features from image: 718AbJ-lnUL.jpg\n"
     ]
    },
    {
     "name": "stderr",
     "output_type": "stream",
     "text": [
      "Extracting Features:  96%|█████████▋| 482/500 [01:46<00:03,  4.89it/s]"
     ]
    },
    {
     "name": "stdout",
     "output_type": "stream",
     "text": [
      "Extracting features from image: 81elFizoqgL.jpg\n"
     ]
    },
    {
     "name": "stderr",
     "output_type": "stream",
     "text": [
      "Extracting Features:  97%|█████████▋| 484/500 [01:46<00:03,  4.96it/s]"
     ]
    },
    {
     "name": "stdout",
     "output_type": "stream",
     "text": [
      "Extracting features from image: 71FcYrlHEEL.jpg\n"
     ]
    },
    {
     "name": "stderr",
     "output_type": "stream",
     "text": [
      "Extracting Features:  97%|█████████▋| 485/500 [01:46<00:03,  4.96it/s]"
     ]
    },
    {
     "name": "stdout",
     "output_type": "stream",
     "text": [
      "Extracting features from image: 71uyQ21zqVL.jpg\n"
     ]
    },
    {
     "name": "stderr",
     "output_type": "stream",
     "text": [
      "Extracting Features:  97%|█████████▋| 486/500 [01:46<00:02,  5.00it/s]"
     ]
    },
    {
     "name": "stdout",
     "output_type": "stream",
     "text": [
      "Extracting features from image: 71Iz6gGlhzL.jpg\n"
     ]
    },
    {
     "name": "stderr",
     "output_type": "stream",
     "text": [
      "Extracting Features:  97%|█████████▋| 487/500 [01:47<00:02,  5.20it/s]"
     ]
    },
    {
     "name": "stdout",
     "output_type": "stream",
     "text": [
      "Extracting features from image: 51NBIRi0OLL.jpg\n",
      "Extracting features from image: 61JcUwBXP6L.jpg\n"
     ]
    },
    {
     "name": "stderr",
     "output_type": "stream",
     "text": [
      "Extracting Features:  98%|█████████▊| 489/500 [01:47<00:01,  5.65it/s]"
     ]
    },
    {
     "name": "stdout",
     "output_type": "stream",
     "text": [
      "Extracting features from image: 61pdB9fr-cL.jpg\n",
      "Extracting features from image: 516rrBjrjnL.jpg\n"
     ]
    },
    {
     "name": "stderr",
     "output_type": "stream",
     "text": [
      "Extracting Features:  98%|█████████▊| 490/500 [01:47<00:01,  6.01it/s]"
     ]
    },
    {
     "name": "stdout",
     "output_type": "stream",
     "text": [
      "Extracting features from image: 81IGy+1kZHL.jpg\n"
     ]
    },
    {
     "name": "stderr",
     "output_type": "stream",
     "text": [
      "Extracting Features:  98%|█████████▊| 492/500 [01:47<00:01,  5.64it/s]"
     ]
    },
    {
     "name": "stdout",
     "output_type": "stream",
     "text": [
      "Extracting features from image: 71f8PsMyZIL.jpg\n",
      "Extracting features from image: 71iA1buDH4S.jpg\n"
     ]
    },
    {
     "name": "stderr",
     "output_type": "stream",
     "text": [
      "Extracting Features:  99%|█████████▉| 494/500 [01:48<00:01,  5.15it/s]"
     ]
    },
    {
     "name": "stdout",
     "output_type": "stream",
     "text": [
      "Extracting features from image: 71jmtTh5QES.jpg\n"
     ]
    },
    {
     "name": "stderr",
     "output_type": "stream",
     "text": [
      "Extracting Features:  99%|█████████▉| 495/500 [01:48<00:00,  5.53it/s]"
     ]
    },
    {
     "name": "stdout",
     "output_type": "stream",
     "text": [
      "Extracting features from image: 518L45yHsfL.jpg\n",
      "Extracting features from image: 7179JK26-1L.jpg\n"
     ]
    },
    {
     "name": "stderr",
     "output_type": "stream",
     "text": [
      "Extracting Features:  99%|█████████▉| 497/500 [01:48<00:00,  4.88it/s]"
     ]
    },
    {
     "name": "stdout",
     "output_type": "stream",
     "text": [
      "Extracting features from image: 719skH5g3DL.jpg\n",
      "Extracting features from image: 81L5nXqWeLL.jpg\n"
     ]
    },
    {
     "name": "stderr",
     "output_type": "stream",
     "text": [
      "Extracting Features: 100%|█████████▉| 499/500 [01:49<00:00,  5.08it/s]"
     ]
    },
    {
     "name": "stdout",
     "output_type": "stream",
     "text": [
      "Extracting features from image: 61m-jQu+ZaL.jpg\n",
      "Extracting features from image: 71yqw2dcvCL.jpg\n"
     ]
    },
    {
     "name": "stderr",
     "output_type": "stream",
     "text": [
      "Extracting Features: 100%|██████████| 500/500 [01:49<00:00,  4.57it/s]"
     ]
    },
    {
     "name": "stdout",
     "output_type": "stream",
     "text": [
      "Feature extraction for training completed.\n",
      "Total images processed: 500\n",
      "Successfully extracted features from 500 images.\n",
      "Skipped 0 images.\n"
     ]
    },
    {
     "name": "stderr",
     "output_type": "stream",
     "text": [
      "\n"
     ]
    }
   ],
   "source": [
    "print(\"Starting feature extraction for training images...\")\n",
    "\n",
    "num_images_to_process = 10000\n",
    "limited_train_data = train_data.head(num_images_to_process)\n",
    "\n",
    "X_train = []\n",
    "y_train = []\n",
    "\n",
    "skipped_images = []\n",
    "successful_images = []\n",
    "\n",
    "for index, row in tqdm(limited_train_data.iterrows(), total=limited_train_data.shape[0], desc='Extracting Features'):\n",
    "    image_link = row['image_link']\n",
    "    entity_value = row['entity_value']  \n",
    "    \n",
    "    image_filename = os.path.basename(image_link)\n",
    "    image_path = os.path.join(IMAGE_DOWNLOAD_FOLDER_TRAIN, image_filename)\n",
    "    \n",
    "    print(f\"Extracting features from image: {image_filename}\")\n",
    "    features = extract_features(image_path)\n",
    "    \n",
    "    if features is not None:\n",
    "        X_train.append(features)\n",
    "        y_train.append(entity_value)\n",
    "        successful_images.append(image_filename)\n",
    "    else:\n",
    "        skipped_images.append(image_filename)\n",
    "        print(f\"Skipping image: {image_filename} due to incomplete or corrupt file.\")\n",
    "\n",
    "print(\"Feature extraction for training completed.\")\n",
    "print(f\"Total images processed: {len(limited_train_data)}\")\n",
    "print(f\"Successfully extracted features from {len(successful_images)} images.\")\n",
    "print(f\"Skipped {len(skipped_images)} images.\")\n",
    "\n",
    "if skipped_images:\n",
    "    print(\"Skipped images:\")\n",
    "    for img in skipped_images:\n",
    "        print(f\" - {img}\")\n",
    "\n",
    "# if X_train:\n",
    "#     sample_features = np.array(X_train)\n",
    "#     print(\"Sample of extracted features:\")\n",
    "#     print(sample_features[:5])  # Print the first 5 feature vectors\n",
    "#     print(\"Feature vector shape:\", sample_features[0].shape)\n",
    "# else:\n",
    "#     print(\"No features were extracted.\")"
   ]
  },
  {
   "cell_type": "markdown",
   "metadata": {},
   "source": [
    "## Model Training"
   ]
  },
  {
   "cell_type": "code",
   "execution_count": 27,
   "metadata": {},
   "outputs": [
    {
     "name": "stdout",
     "output_type": "stream",
     "text": [
      "Training model on extracted features...\n",
      "Model accuracy: 0.12\n",
      "Model F1 score: 0.09626984126984127\n",
      "Model training completed.\n"
     ]
    }
   ],
   "source": [
    "print(\"Training model on extracted features...\")\n",
    "model = train_model(X_train, y_train)\n",
    "print(\"Model training completed.\")"
   ]
  },
  {
   "cell_type": "markdown",
   "metadata": {},
   "source": [
    "## Model Testing"
   ]
  },
  {
   "cell_type": "code",
   "execution_count": 28,
   "metadata": {},
   "outputs": [
    {
     "name": "stdout",
     "output_type": "stream",
     "text": [
      "Loading test dataset from folder: ./dataset/\n",
      "Test dataset loaded.\n",
      "Checking if images are already downloaded...\n"
     ]
    },
    {
     "name": "stderr",
     "output_type": "stream",
     "text": [
      "Checking images: 100%|██████████| 88/88 [00:00<00:00, 16886.98it/s]"
     ]
    },
    {
     "name": "stdout",
     "output_type": "stream",
     "text": [
      "Check completed. 88 missing images found.\n",
      "Found 88 images to download for testing.\n"
     ]
    },
    {
     "name": "stderr",
     "output_type": "stream",
     "text": [
      "\n",
      "100%|██████████| 88/88 [00:15<00:00,  5.70it/s]\n"
     ]
    },
    {
     "name": "stdout",
     "output_type": "stream",
     "text": [
      "Image download process for testing completed.\n",
      "Starting predictions for test data...\n",
      "Processing image link: https://m.media-amazon.com/images/I/41-NCxNuBxL.jpg\n",
      "Image will be saved at: ./downloaded_images_test/41-NCxNuBxL.jpg\n",
      "Extracting features from image: 41-NCxNuBxL.jpg\n",
      "Making prediction for entity: width\n",
      "Prediction completed: 72.0 watt\n",
      "Processing image link: https://m.media-amazon.com/images/I/41-NCxNuBxL.jpg\n",
      "Image will be saved at: ./downloaded_images_test/41-NCxNuBxL.jpg\n",
      "Extracting features from image: 41-NCxNuBxL.jpg\n",
      "Making prediction for entity: depth\n",
      "Prediction completed: 72.0 watt\n",
      "Processing image link: https://m.media-amazon.com/images/I/417NJrPEk+L.jpg\n",
      "Image will be saved at: ./downloaded_images_test/417NJrPEk+L.jpg\n",
      "Extracting features from image: 417NJrPEk+L.jpg\n",
      "Making prediction for entity: maximum_weight_recommendation\n",
      "Prediction completed: 60.0 gram\n",
      "Processing image link: https://m.media-amazon.com/images/I/417SThj+SrL.jpg\n",
      "Image will be saved at: ./downloaded_images_test/417SThj+SrL.jpg\n",
      "Extracting features from image: 417SThj+SrL.jpg\n",
      "Making prediction for entity: voltage\n",
      "Prediction completed: 30.0 kilogram\n",
      "Processing image link: https://m.media-amazon.com/images/I/417SThj+SrL.jpg\n",
      "Image will be saved at: ./downloaded_images_test/417SThj+SrL.jpg\n",
      "Extracting features from image: 417SThj+SrL.jpg\n",
      "Making prediction for entity: wattage\n",
      "Prediction completed: 30.0 kilogram\n",
      "Processing image link: https://m.media-amazon.com/images/I/41ADVPQgZOL.jpg\n",
      "Image will be saved at: ./downloaded_images_test/41ADVPQgZOL.jpg\n",
      "Extracting features from image: 41ADVPQgZOL.jpg\n",
      "Making prediction for entity: item_weight\n",
      "Prediction completed: 567.0 gram\n",
      "Processing image link: https://m.media-amazon.com/images/I/41nblnEkJ3L.jpg\n",
      "Image will be saved at: ./downloaded_images_test/41nblnEkJ3L.jpg\n",
      "Extracting features from image: 41nblnEkJ3L.jpg\n",
      "Making prediction for entity: voltage\n",
      "Prediction completed: 24.0 watt\n",
      "Processing image link: https://m.media-amazon.com/images/I/41nblnEkJ3L.jpg\n",
      "Image will be saved at: ./downloaded_images_test/41nblnEkJ3L.jpg\n",
      "Extracting features from image: 41nblnEkJ3L.jpg\n",
      "Making prediction for entity: wattage\n",
      "Prediction completed: 24.0 watt\n",
      "Processing image link: https://m.media-amazon.com/images/I/41o3iis9E7L.jpg\n",
      "Image will be saved at: ./downloaded_images_test/41o3iis9E7L.jpg\n",
      "Extracting features from image: 41o3iis9E7L.jpg\n",
      "Making prediction for entity: height\n",
      "Prediction completed: 100.0 gram\n",
      "Processing image link: https://m.media-amazon.com/images/I/41pvwR9GbaL.jpg\n",
      "Image will be saved at: ./downloaded_images_test/41pvwR9GbaL.jpg\n",
      "Extracting features from image: 41pvwR9GbaL.jpg\n",
      "Making prediction for entity: voltage\n",
      "Prediction completed: 100.0 watt\n",
      "Processing image link: https://m.media-amazon.com/images/I/41uwo4PVnuL.jpg\n",
      "Image will be saved at: ./downloaded_images_test/41uwo4PVnuL.jpg\n",
      "Extracting features from image: 41uwo4PVnuL.jpg\n",
      "Making prediction for entity: depth\n",
      "Prediction completed: 25 gram\n",
      "Processing image link: https://m.media-amazon.com/images/I/41uwo4PVnuL.jpg\n",
      "Image will be saved at: ./downloaded_images_test/41uwo4PVnuL.jpg\n",
      "Extracting features from image: 41uwo4PVnuL.jpg\n",
      "Making prediction for entity: width\n",
      "Prediction completed: 25 gram\n",
      "Processing image link: https://m.media-amazon.com/images/I/41ygXRvf8lL.jpg\n",
      "Image will be saved at: ./downloaded_images_test/41ygXRvf8lL.jpg\n",
      "Extracting features from image: 41ygXRvf8lL.jpg\n",
      "Making prediction for entity: depth\n",
      "Prediction completed: 150 gram\n",
      "Processing image link: https://m.media-amazon.com/images/I/41ygXRvf8lL.jpg\n",
      "Image will be saved at: ./downloaded_images_test/41ygXRvf8lL.jpg\n",
      "Extracting features from image: 41ygXRvf8lL.jpg\n",
      "Making prediction for entity: height\n",
      "Prediction completed: 150 gram\n",
      "Processing image link: https://m.media-amazon.com/images/I/41zgjN+zW3L.jpg\n",
      "Image will be saved at: ./downloaded_images_test/41zgjN+zW3L.jpg\n",
      "Extracting features from image: 41zgjN+zW3L.jpg\n",
      "Making prediction for entity: item_weight\n",
      "Prediction completed: 240.0 volt\n",
      "Processing image link: https://m.media-amazon.com/images/I/51+oHGvSvuL.jpg\n",
      "Image will be saved at: ./downloaded_images_test/51+oHGvSvuL.jpg\n",
      "Extracting features from image: 51+oHGvSvuL.jpg\n",
      "Making prediction for entity: depth\n",
      "Prediction completed: 175.0 kilogram\n",
      "Processing image link: https://m.media-amazon.com/images/I/51+oHGvSvuL.jpg\n",
      "Image will be saved at: ./downloaded_images_test/51+oHGvSvuL.jpg\n",
      "Extracting features from image: 51+oHGvSvuL.jpg\n",
      "Making prediction for entity: width\n",
      "Prediction completed: 175.0 kilogram\n",
      "Processing image link: https://m.media-amazon.com/images/I/51-WIOx5pxL.jpg\n",
      "Image will be saved at: ./downloaded_images_test/51-WIOx5pxL.jpg\n",
      "Extracting features from image: 51-WIOx5pxL.jpg\n",
      "Making prediction for entity: depth\n",
      "Prediction completed: 100.0 gram\n",
      "Processing image link: https://m.media-amazon.com/images/I/51-WIOx5pxL.jpg\n",
      "Image will be saved at: ./downloaded_images_test/51-WIOx5pxL.jpg\n",
      "Extracting features from image: 51-WIOx5pxL.jpg\n",
      "Making prediction for entity: height\n",
      "Prediction completed: 100.0 gram\n",
      "Processing image link: https://m.media-amazon.com/images/I/510xYFNYQ8L.jpg\n",
      "Image will be saved at: ./downloaded_images_test/510xYFNYQ8L.jpg\n",
      "Extracting features from image: 510xYFNYQ8L.jpg\n",
      "Making prediction for entity: depth\n",
      "Prediction completed: 5.0 gram\n",
      "Processing image link: https://m.media-amazon.com/images/I/510xYFNYQ8L.jpg\n",
      "Image will be saved at: ./downloaded_images_test/510xYFNYQ8L.jpg\n",
      "Extracting features from image: 510xYFNYQ8L.jpg\n",
      "Making prediction for entity: height\n",
      "Prediction completed: 5.0 gram\n",
      "Processing image link: https://m.media-amazon.com/images/I/510xYFNYQ8L.jpg\n",
      "Image will be saved at: ./downloaded_images_test/510xYFNYQ8L.jpg\n",
      "Extracting features from image: 510xYFNYQ8L.jpg\n",
      "Making prediction for entity: depth\n",
      "Prediction completed: 5.0 gram\n",
      "Processing image link: https://m.media-amazon.com/images/I/514bY8c4ZIL.jpg\n",
      "Image will be saved at: ./downloaded_images_test/514bY8c4ZIL.jpg\n",
      "Extracting features from image: 514bY8c4ZIL.jpg\n",
      "Making prediction for entity: width\n",
      "Prediction completed: 100.0 gram\n",
      "Processing image link: https://m.media-amazon.com/images/I/514bY8c4ZIL.jpg\n",
      "Image will be saved at: ./downloaded_images_test/514bY8c4ZIL.jpg\n",
      "Extracting features from image: 514bY8c4ZIL.jpg\n",
      "Making prediction for entity: depth\n",
      "Prediction completed: 100.0 gram\n",
      "Processing image link: https://m.media-amazon.com/images/I/514pScQdlCL.jpg\n",
      "Image will be saved at: ./downloaded_images_test/514pScQdlCL.jpg\n",
      "Extracting features from image: 514pScQdlCL.jpg\n",
      "Making prediction for entity: voltage\n",
      "Prediction completed: 5.0 gram\n",
      "Processing image link: https://m.media-amazon.com/images/I/514pScQdlCL.jpg\n",
      "Image will be saved at: ./downloaded_images_test/514pScQdlCL.jpg\n",
      "Extracting features from image: 514pScQdlCL.jpg\n",
      "Making prediction for entity: wattage\n",
      "Prediction completed: 5.0 gram\n",
      "Processing image link: https://m.media-amazon.com/images/I/51BEuVR4ZzL.jpg\n",
      "Image will be saved at: ./downloaded_images_test/51BEuVR4ZzL.jpg\n",
      "Extracting features from image: 51BEuVR4ZzL.jpg\n",
      "Making prediction for entity: width\n",
      "Prediction completed: 8.0 gram\n",
      "Processing image link: https://m.media-amazon.com/images/I/51BEuVR4ZzL.jpg\n",
      "Image will be saved at: ./downloaded_images_test/51BEuVR4ZzL.jpg\n",
      "Extracting features from image: 51BEuVR4ZzL.jpg\n",
      "Making prediction for entity: height\n",
      "Prediction completed: 8.0 gram\n",
      "Processing image link: https://m.media-amazon.com/images/I/51EBBqNOJ1L.jpg\n",
      "Image will be saved at: ./downloaded_images_test/51EBBqNOJ1L.jpg\n",
      "Extracting features from image: 51EBBqNOJ1L.jpg\n",
      "Making prediction for entity: width\n",
      "Prediction completed: 15 kilogram\n",
      "Processing image link: https://m.media-amazon.com/images/I/51EBBqNOJ1L.jpg\n",
      "Image will be saved at: ./downloaded_images_test/51EBBqNOJ1L.jpg\n",
      "Extracting features from image: 51EBBqNOJ1L.jpg\n",
      "Making prediction for entity: depth\n",
      "Prediction completed: 15 kilogram\n",
      "Processing image link: https://m.media-amazon.com/images/I/51EBBqNOJ1L.jpg\n",
      "Image will be saved at: ./downloaded_images_test/51EBBqNOJ1L.jpg\n",
      "Extracting features from image: 51EBBqNOJ1L.jpg\n",
      "Making prediction for entity: height\n",
      "Prediction completed: 15 kilogram\n",
      "Processing image link: https://m.media-amazon.com/images/I/51FSlaVlejL.jpg\n",
      "Image will be saved at: ./downloaded_images_test/51FSlaVlejL.jpg\n",
      "Extracting features from image: 51FSlaVlejL.jpg\n",
      "Making prediction for entity: height\n",
      "Prediction completed: 8.0 gram\n",
      "Processing image link: https://m.media-amazon.com/images/I/51H+mX2Wk7L.jpg\n",
      "Image will be saved at: ./downloaded_images_test/51H+mX2Wk7L.jpg\n",
      "Extracting features from image: 51H+mX2Wk7L.jpg\n",
      "Making prediction for entity: width\n",
      "Prediction completed: 240.0 volt\n",
      "Processing image link: https://m.media-amazon.com/images/I/51H+mX2Wk7L.jpg\n",
      "Image will be saved at: ./downloaded_images_test/51H+mX2Wk7L.jpg\n",
      "Extracting features from image: 51H+mX2Wk7L.jpg\n",
      "Making prediction for entity: depth\n",
      "Prediction completed: 240.0 volt\n",
      "Processing image link: https://m.media-amazon.com/images/I/51KykmLgc0L.jpg\n",
      "Image will be saved at: ./downloaded_images_test/51KykmLgc0L.jpg\n",
      "Extracting features from image: 51KykmLgc0L.jpg\n",
      "Making prediction for entity: maximum_weight_recommendation\n",
      "Prediction completed: 120 kilogram\n",
      "Processing image link: https://m.media-amazon.com/images/I/51P0IuT6RsL.jpg\n",
      "Image will be saved at: ./downloaded_images_test/51P0IuT6RsL.jpg\n",
      "Extracting features from image: 51P0IuT6RsL.jpg\n",
      "Making prediction for entity: maximum_weight_recommendation\n",
      "Prediction completed: 460.0 gram\n",
      "Processing image link: https://m.media-amazon.com/images/I/51Su6zXkAsL.jpg\n",
      "Image will be saved at: ./downloaded_images_test/51Su6zXkAsL.jpg\n",
      "Extracting features from image: 51Su6zXkAsL.jpg\n",
      "Making prediction for entity: depth\n",
      "Prediction completed: 100 gram\n",
      "Processing image link: https://m.media-amazon.com/images/I/51bEy0J5wLL.jpg\n",
      "Image will be saved at: ./downloaded_images_test/51bEy0J5wLL.jpg\n",
      "Extracting features from image: 51bEy0J5wLL.jpg\n",
      "Making prediction for entity: width\n",
      "Prediction completed: 0.0 pound\n",
      "Processing image link: https://m.media-amazon.com/images/I/51cPZYLk2YL.jpg\n",
      "Image will be saved at: ./downloaded_images_test/51cPZYLk2YL.jpg\n",
      "Extracting features from image: 51cPZYLk2YL.jpg\n",
      "Making prediction for entity: depth\n",
      "Prediction completed: 2.4 kilogram\n",
      "Processing image link: https://m.media-amazon.com/images/I/51fAzxNm+cL.jpg\n",
      "Image will be saved at: ./downloaded_images_test/51fAzxNm+cL.jpg\n",
      "Extracting features from image: 51fAzxNm+cL.jpg\n",
      "Making prediction for entity: width\n",
      "Prediction completed: 30.0 millilitre\n",
      "Processing image link: https://m.media-amazon.com/images/I/51fAzxNm+cL.jpg\n",
      "Image will be saved at: ./downloaded_images_test/51fAzxNm+cL.jpg\n",
      "Extracting features from image: 51fAzxNm+cL.jpg\n",
      "Making prediction for entity: depth\n",
      "Prediction completed: 30.0 millilitre\n",
      "Processing image link: https://m.media-amazon.com/images/I/51fAzxNm+cL.jpg\n",
      "Image will be saved at: ./downloaded_images_test/51fAzxNm+cL.jpg\n",
      "Extracting features from image: 51fAzxNm+cL.jpg\n",
      "Making prediction for entity: height\n",
      "Prediction completed: 30.0 millilitre\n",
      "Processing image link: https://m.media-amazon.com/images/I/51jTe522S2L.jpg\n",
      "Image will be saved at: ./downloaded_images_test/51jTe522S2L.jpg\n",
      "Extracting features from image: 51jTe522S2L.jpg\n",
      "Making prediction for entity: maximum_weight_recommendation\n",
      "Prediction completed: 180 gram\n",
      "Processing image link: https://m.media-amazon.com/images/I/51kdBAv6ImL.jpg\n",
      "Image will be saved at: ./downloaded_images_test/51kdBAv6ImL.jpg\n",
      "Extracting features from image: 51kdBAv6ImL.jpg\n",
      "Making prediction for entity: voltage\n",
      "Prediction completed: 8.0 gram\n",
      "Processing image link: https://m.media-amazon.com/images/I/51kdBAv6ImL.jpg\n",
      "Image will be saved at: ./downloaded_images_test/51kdBAv6ImL.jpg\n",
      "Extracting features from image: 51kdBAv6ImL.jpg\n",
      "Making prediction for entity: wattage\n",
      "Prediction completed: 8.0 gram\n",
      "Processing image link: https://m.media-amazon.com/images/I/51l6c6UcRZL.jpg\n",
      "Image will be saved at: ./downloaded_images_test/51l6c6UcRZL.jpg\n",
      "Extracting features from image: 51l6c6UcRZL.jpg\n",
      "Making prediction for entity: item_weight\n",
      "Prediction completed: 1400 milligram\n",
      "Processing image link: https://m.media-amazon.com/images/I/51oaOP8qJlL.jpg\n",
      "Image will be saved at: ./downloaded_images_test/51oaOP8qJlL.jpg\n",
      "Extracting features from image: 51oaOP8qJlL.jpg\n",
      "Making prediction for entity: width\n",
      "Prediction completed: 12.0 volt\n",
      "Processing image link: https://m.media-amazon.com/images/I/51oaOP8qJlL.jpg\n",
      "Image will be saved at: ./downloaded_images_test/51oaOP8qJlL.jpg\n",
      "Extracting features from image: 51oaOP8qJlL.jpg\n",
      "Making prediction for entity: depth\n",
      "Prediction completed: 12.0 volt\n",
      "Processing image link: https://m.media-amazon.com/images/I/51r7U52rh7L.jpg\n",
      "Image will be saved at: ./downloaded_images_test/51r7U52rh7L.jpg\n",
      "Extracting features from image: 51r7U52rh7L.jpg\n",
      "Making prediction for entity: item_weight\n",
      "Prediction completed: 13.0 gram\n",
      "Processing image link: https://m.media-amazon.com/images/I/51r7U52rh7L.jpg\n",
      "Image will be saved at: ./downloaded_images_test/51r7U52rh7L.jpg\n",
      "Extracting features from image: 51r7U52rh7L.jpg\n",
      "Making prediction for entity: wattage\n",
      "Prediction completed: 13.0 gram\n",
      "Processing image link: https://m.media-amazon.com/images/I/51r7U52rh7L.jpg\n",
      "Image will be saved at: ./downloaded_images_test/51r7U52rh7L.jpg\n",
      "Extracting features from image: 51r7U52rh7L.jpg\n",
      "Making prediction for entity: voltage\n",
      "Prediction completed: 13.0 gram\n",
      "Processing image link: https://m.media-amazon.com/images/I/51tEop-EBJL.jpg\n",
      "Image will be saved at: ./downloaded_images_test/51tEop-EBJL.jpg\n",
      "Extracting features from image: 51tEop-EBJL.jpg\n",
      "Making prediction for entity: wattage\n",
      "Prediction completed: 5.0 gram\n",
      "Processing image link: https://m.media-amazon.com/images/I/51vwYpDz2tL.jpg\n",
      "Image will be saved at: ./downloaded_images_test/51vwYpDz2tL.jpg\n",
      "Extracting features from image: 51vwYpDz2tL.jpg\n",
      "Making prediction for entity: width\n",
      "Prediction completed: 100.0 gram\n",
      "Processing image link: https://m.media-amazon.com/images/I/51y79cwGJFL.jpg\n",
      "Image will be saved at: ./downloaded_images_test/51y79cwGJFL.jpg\n",
      "Extracting features from image: 51y79cwGJFL.jpg\n",
      "Making prediction for entity: width\n",
      "Prediction completed: 50.0 gram\n",
      "Processing image link: https://m.media-amazon.com/images/I/51y79cwGJFL.jpg\n",
      "Image will be saved at: ./downloaded_images_test/51y79cwGJFL.jpg\n",
      "Extracting features from image: 51y79cwGJFL.jpg\n",
      "Making prediction for entity: depth\n",
      "Prediction completed: 50.0 gram\n",
      "Processing image link: https://m.media-amazon.com/images/I/51y79cwGJFL.jpg\n",
      "Image will be saved at: ./downloaded_images_test/51y79cwGJFL.jpg\n",
      "Extracting features from image: 51y79cwGJFL.jpg\n",
      "Making prediction for entity: height\n",
      "Prediction completed: 50.0 gram\n",
      "Processing image link: https://m.media-amazon.com/images/I/613P5cxQH4L.jpg\n",
      "Image will be saved at: ./downloaded_images_test/613P5cxQH4L.jpg\n",
      "Extracting features from image: 613P5cxQH4L.jpg\n",
      "Making prediction for entity: voltage\n",
      "Prediction completed: 100.0 gram\n",
      "Processing image link: https://m.media-amazon.com/images/I/613P5cxQH4L.jpg\n",
      "Image will be saved at: ./downloaded_images_test/613P5cxQH4L.jpg\n",
      "Extracting features from image: 613P5cxQH4L.jpg\n",
      "Making prediction for entity: wattage\n",
      "Prediction completed: 100.0 gram\n",
      "Processing image link: https://m.media-amazon.com/images/I/614hn5uX9MS.jpg\n",
      "Image will be saved at: ./downloaded_images_test/614hn5uX9MS.jpg\n",
      "Extracting features from image: 614hn5uX9MS.jpg\n",
      "Making prediction for entity: wattage\n",
      "Prediction completed: 12.0 volt\n",
      "Processing image link: https://m.media-amazon.com/images/I/615Cjzm6pyL.jpg\n",
      "Image will be saved at: ./downloaded_images_test/615Cjzm6pyL.jpg\n",
      "Extracting features from image: 615Cjzm6pyL.jpg\n",
      "Making prediction for entity: depth\n",
      "Prediction completed: 6.0 ton\n",
      "Processing image link: https://m.media-amazon.com/images/I/615Cjzm6pyL.jpg\n",
      "Image will be saved at: ./downloaded_images_test/615Cjzm6pyL.jpg\n",
      "Extracting features from image: 615Cjzm6pyL.jpg\n",
      "Making prediction for entity: height\n",
      "Prediction completed: 6.0 ton\n",
      "Processing image link: https://m.media-amazon.com/images/I/61C+fwVD6dL.jpg\n",
      "Image will be saved at: ./downloaded_images_test/61C+fwVD6dL.jpg\n",
      "Extracting features from image: 61C+fwVD6dL.jpg\n",
      "Making prediction for entity: height\n",
      "Prediction completed: 5.0 gram\n",
      "Processing image link: https://m.media-amazon.com/images/I/61E2XRNSdYL.jpg\n",
      "Image will be saved at: ./downloaded_images_test/61E2XRNSdYL.jpg\n",
      "Extracting features from image: 61E2XRNSdYL.jpg\n",
      "Making prediction for entity: width\n",
      "Prediction completed: 0.28 ounce\n",
      "Processing image link: https://m.media-amazon.com/images/I/61G8bvWOb-L.jpg\n",
      "Image will be saved at: ./downloaded_images_test/61G8bvWOb-L.jpg\n",
      "Extracting features from image: 61G8bvWOb-L.jpg\n",
      "Making prediction for entity: item_weight\n",
      "Prediction completed: 240.0 volt\n",
      "Processing image link: https://m.media-amazon.com/images/I/61G8bvWOb-L.jpg\n",
      "Image will be saved at: ./downloaded_images_test/61G8bvWOb-L.jpg\n",
      "Extracting features from image: 61G8bvWOb-L.jpg\n",
      "Making prediction for entity: maximum_weight_recommendation\n",
      "Prediction completed: 240.0 volt\n",
      "Processing image link: https://m.media-amazon.com/images/I/61O+Yi09tyL.jpg\n",
      "Image will be saved at: ./downloaded_images_test/61O+Yi09tyL.jpg\n",
      "Extracting features from image: 61O+Yi09tyL.jpg\n",
      "Making prediction for entity: voltage\n",
      "Prediction completed: 12.0 volt\n",
      "Processing image link: https://m.media-amazon.com/images/I/61lX6IP1SVL.jpg\n",
      "Image will be saved at: ./downloaded_images_test/61lX6IP1SVL.jpg\n",
      "Extracting features from image: 61lX6IP1SVL.jpg\n",
      "Making prediction for entity: item_weight\n",
      "Prediction completed: 200.0 millilitre\n",
      "Processing image link: https://m.media-amazon.com/images/I/71Qk6hR9-WL.jpg\n",
      "Image will be saved at: ./downloaded_images_test/71Qk6hR9-WL.jpg\n",
      "Extracting features from image: 71Qk6hR9-WL.jpg\n",
      "Making prediction for entity: wattage\n",
      "Prediction completed: 5.0 volt\n",
      "Processing image link: https://m.media-amazon.com/images/I/71Qk6hR9-WL.jpg\n",
      "Image will be saved at: ./downloaded_images_test/71Qk6hR9-WL.jpg\n",
      "Extracting features from image: 71Qk6hR9-WL.jpg\n",
      "Making prediction for entity: item_weight\n",
      "Prediction completed: 5.0 volt\n",
      "Processing image link: https://m.media-amazon.com/images/I/71UN1IxKp4L.jpg\n",
      "Image will be saved at: ./downloaded_images_test/71UN1IxKp4L.jpg\n",
      "Extracting features from image: 71UN1IxKp4L.jpg\n",
      "Making prediction for entity: item_weight\n",
      "Prediction completed: 2325.0 microgram\n",
      "Processing image link: https://m.media-amazon.com/images/I/71UN1IxKp4L.jpg\n",
      "Image will be saved at: ./downloaded_images_test/71UN1IxKp4L.jpg\n",
      "Extracting features from image: 71UN1IxKp4L.jpg\n",
      "Making prediction for entity: maximum_weight_recommendation\n",
      "Prediction completed: 2325.0 microgram\n",
      "Processing image link: https://m.media-amazon.com/images/I/71UYDq4nfnL.jpg\n",
      "Image will be saved at: ./downloaded_images_test/71UYDq4nfnL.jpg\n",
      "Extracting features from image: 71UYDq4nfnL.jpg\n",
      "Making prediction for entity: voltage\n",
      "Prediction completed: 2325.0 microgram\n",
      "Processing image link: https://m.media-amazon.com/images/I/71UYDq4nfnL.jpg\n",
      "Image will be saved at: ./downloaded_images_test/71UYDq4nfnL.jpg\n",
      "Extracting features from image: 71UYDq4nfnL.jpg\n",
      "Making prediction for entity: wattage\n",
      "Prediction completed: 2325.0 microgram\n",
      "Processing image link: https://m.media-amazon.com/images/I/71WAjPMQDWL.jpg\n",
      "Image will be saved at: ./downloaded_images_test/71WAjPMQDWL.jpg\n",
      "Extracting features from image: 71WAjPMQDWL.jpg\n",
      "Making prediction for entity: voltage\n",
      "Prediction completed: 100.0 gram\n",
      "Processing image link: https://m.media-amazon.com/images/I/71WAjPMQDWL.jpg\n",
      "Image will be saved at: ./downloaded_images_test/71WAjPMQDWL.jpg\n",
      "Extracting features from image: 71WAjPMQDWL.jpg\n",
      "Making prediction for entity: wattage\n",
      "Prediction completed: 100.0 gram\n",
      "Processing image link: https://m.media-amazon.com/images/I/71afEPoRGsL.jpg\n",
      "Image will be saved at: ./downloaded_images_test/71afEPoRGsL.jpg\n",
      "Extracting features from image: 71afEPoRGsL.jpg\n",
      "Making prediction for entity: maximum_weight_recommendation\n",
      "Prediction completed: 100.0 gram\n",
      "Processing image link: https://m.media-amazon.com/images/I/71afEPoRGsL.jpg\n",
      "Image will be saved at: ./downloaded_images_test/71afEPoRGsL.jpg\n",
      "Extracting features from image: 71afEPoRGsL.jpg\n",
      "Making prediction for entity: item_weight\n",
      "Prediction completed: 100.0 gram\n",
      "Processing image link: https://m.media-amazon.com/images/I/71eCfiIG-AL.jpg\n",
      "Image will be saved at: ./downloaded_images_test/71eCfiIG-AL.jpg\n",
      "Extracting features from image: 71eCfiIG-AL.jpg\n",
      "Making prediction for entity: item_weight\n",
      "Prediction completed: 50.0 gram\n",
      "Processing image link: https://m.media-amazon.com/images/I/71fWddA0+yL.jpg\n",
      "Image will be saved at: ./downloaded_images_test/71fWddA0+yL.jpg\n",
      "Extracting features from image: 71fWddA0+yL.jpg\n",
      "Making prediction for entity: wattage\n",
      "Prediction completed: 5.0 volt\n",
      "Processing image link: https://m.media-amazon.com/images/I/71ta6wY3HtL.jpg\n",
      "Image will be saved at: ./downloaded_images_test/71ta6wY3HtL.jpg\n",
      "Extracting features from image: 71ta6wY3HtL.jpg\n",
      "Making prediction for entity: voltage\n",
      "Prediction completed: 100.0 gram\n",
      "Processing image link: https://m.media-amazon.com/images/I/71ta6wY3HtL.jpg\n",
      "Image will be saved at: ./downloaded_images_test/71ta6wY3HtL.jpg\n",
      "Extracting features from image: 71ta6wY3HtL.jpg\n",
      "Making prediction for entity: wattage\n",
      "Prediction completed: 100.0 gram\n",
      "Processing image link: https://m.media-amazon.com/images/I/71v+pim0lfL.jpg\n",
      "Image will be saved at: ./downloaded_images_test/71v+pim0lfL.jpg\n",
      "Extracting features from image: 71v+pim0lfL.jpg\n",
      "Making prediction for entity: item_weight\n",
      "Prediction completed: 315.0 gram\n",
      "Processing image link: https://m.media-amazon.com/images/I/71v+pim0lfL.jpg\n",
      "Image will be saved at: ./downloaded_images_test/71v+pim0lfL.jpg\n",
      "Extracting features from image: 71v+pim0lfL.jpg\n",
      "Making prediction for entity: maximum_weight_recommendation\n",
      "Prediction completed: 315.0 gram\n",
      "Processing image link: https://m.media-amazon.com/images/I/81IYdOV0mVL.jpg\n",
      "Image will be saved at: ./downloaded_images_test/81IYdOV0mVL.jpg\n",
      "Extracting features from image: 81IYdOV0mVL.jpg\n",
      "Making prediction for entity: maximum_weight_recommendation\n",
      "Prediction completed: 220.0 gram\n",
      "Processing image link: https://m.media-amazon.com/images/I/81PG3ea0MOL.jpg\n",
      "Image will be saved at: ./downloaded_images_test/81PG3ea0MOL.jpg\n",
      "Extracting features from image: 81PG3ea0MOL.jpg\n",
      "Making prediction for entity: voltage\n",
      "Prediction completed: 30.0 watt\n",
      "Processing image link: https://m.media-amazon.com/images/I/81aZ2ozp1GL.jpg\n",
      "Image will be saved at: ./downloaded_images_test/81aZ2ozp1GL.jpg\n",
      "Extracting features from image: 81aZ2ozp1GL.jpg\n",
      "Making prediction for entity: maximum_weight_recommendation\n",
      "Prediction completed: 12.0 volt\n",
      "Processing image link: https://m.media-amazon.com/images/I/81qUmRUUTTL.jpg\n",
      "Image will be saved at: ./downloaded_images_test/81qUmRUUTTL.jpg\n",
      "Extracting features from image: 81qUmRUUTTL.jpg\n",
      "Making prediction for entity: maximum_weight_recommendation\n",
      "Prediction completed: 200.0 gram\n",
      "Processing image link: https://m.media-amazon.com/images/I/81qUmRUUTTL.jpg\n",
      "Image will be saved at: ./downloaded_images_test/81qUmRUUTTL.jpg\n",
      "Extracting features from image: 81qUmRUUTTL.jpg\n",
      "Making prediction for entity: item_weight\n",
      "Prediction completed: 200.0 gram\n",
      "Predictions for test data completed.\n",
      "Model accuracy: 0.0\n",
      "Model F1 score: 0.0\n",
      "Saving predictions to ./dataset/test_out.csv...\n",
      "Predictions saved to ./dataset/test_out.csv.\n"
     ]
    }
   ],
   "source": [
    "print(f\"Loading test dataset from folder: {DATASET_FOLDER}\")\n",
    "test_data = pd.read_csv(os.path.join(DATASET_FOLDER, 'sample_test.csv'))\n",
    "print(\"Test dataset loaded.\")\n",
    "\n",
    "missing_test_images = check_images_already_downloaded(test_data['image_link'].tolist(), IMAGE_DOWNLOAD_FOLDER_TEST)\n",
    "\n",
    "if missing_test_images:\n",
    "    print(f\"Found {len(missing_test_images)} images to download for testing.\")\n",
    "    download_images(missing_test_images, IMAGE_DOWNLOAD_FOLDER_TEST)  # Downloading test images\n",
    "    print(\"Image download process for testing completed.\")\n",
    "else:\n",
    "    print(\"All test images are already downloaded.\")\n",
    "\n",
    "print(\"Starting predictions for test data...\")\n",
    "test_predictions = test_data.copy()\n",
    "test_predictions['prediction'] = test_predictions.apply(\n",
    "    lambda row: predictor(row['image_link'], row['group_id'], row['entity_name'], model, IMAGE_DOWNLOAD_FOLDER_TEST), axis=1\n",
    ")\n",
    "\n",
    "test_predictions = test_predictions[test_predictions['prediction'].notnull()]\n",
    "print(\"Predictions for test data completed.\")\n",
    "\n",
    "y_true = test_predictions['entity_name'] \n",
    "y_pred = test_predictions['prediction']\n",
    "\n",
    "accuracy = accuracy_score(y_true, y_pred)\n",
    "f1 = f1_score(y_true, y_pred, average='weighted')\n",
    "\n",
    "print(f\"Model accuracy: {accuracy}\")\n",
    "print(f\"Model F1 score: {f1}\")\n",
    "\n",
    "output_filename = os.path.join(DATASET_FOLDER, 'test_out.csv')\n",
    "print(f\"Saving predictions to {output_filename}...\")\n",
    "test_predictions[['index', 'prediction']].to_csv(output_filename, index=False)\n",
    "print(f\"Predictions saved to {output_filename}.\")"
   ]
  }
 ],
 "metadata": {
  "kernelspec": {
   "display_name": "Python 3",
   "language": "python",
   "name": "python3"
  },
  "language_info": {
   "codemirror_mode": {
    "name": "ipython",
    "version": 3
   },
   "file_extension": ".py",
   "mimetype": "text/x-python",
   "name": "python",
   "nbconvert_exporter": "python",
   "pygments_lexer": "ipython3",
   "version": "3.10.11"
  }
 },
 "nbformat": 4,
 "nbformat_minor": 2
}
